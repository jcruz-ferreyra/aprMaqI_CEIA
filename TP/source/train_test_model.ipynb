{
 "cells": [
  {
   "cell_type": "code",
   "execution_count": 38,
   "metadata": {},
   "outputs": [],
   "source": [
    "import json\n",
    "import os\n",
    "import random\n",
    "import re  # Expresiones regulares\n",
    "import sys  # Interactuar con el sistema\n",
    "from itertools import chain, combinations  # Iteradores\n",
    "from pathlib import Path\n",
    "\n",
    "import geopandas as gpd  # Georeferenciacion\n",
    "import matplotlib.pyplot as plt  # Visualización de datos\n",
    "import numpy as np  # Albegra lineal\n",
    "import osmnx as ox  # OpenStreetMap\n",
    "import pandas as pd  # Procesamiento de datos\n",
    "import scipy.stats as stats\n",
    "import seaborn as sns  # Visualización de datos estadísticos\n",
    "import sklearn\n",
    "import utils\n",
    "from geopandas.datasets import get_path  # Ruta de los datos geográficos\n",
    "from scipy.stats import chi2_contingency  # Test de chi-cuadrado\n",
    "from shapely.geometry import Point  # Geometría espacial\n",
    "from sklearn.decomposition import PCA\n",
    "from sklearn.ensemble import RandomForestClassifier\n",
    "from sklearn.linear_model import LogisticRegression\n",
    "from sklearn.metrics import (accuracy_score,  # Metricas para evaluación\n",
    "                             confusion_matrix, f1_score, precision_score,\n",
    "                             recall_score)\n",
    "from sklearn.model_selection import train_test_split\n",
    "from sklearn.preprocessing import OneHotEncoder, StandardScaler\n",
    "\n",
    "from ydata_profiling import ProfileReport"
   ]
  },
  {
   "cell_type": "code",
   "execution_count": 39,
   "metadata": {},
   "outputs": [],
   "source": [
    "pd.options.mode.chained_assignment = None\n",
    "\n",
    "random_seed = 42\n",
    "random.seed(random_seed)\n",
    "\n",
    "main_path = Path.cwd() / \"..\"\n",
    "df = pd.read_csv(main_path / \"data/weatherAUS.csv\")\n",
    "\n",
    "spectral_palette = [\n",
    "    \"#9e0142\",\n",
    "    \"#d53e4f\",\n",
    "    \"#f46d43\",\n",
    "    \"#fdae61\",\n",
    "    \"#fee08b\",\n",
    "    \"#ffffbf\",\n",
    "    \"#e6f598\",\n",
    "    \"#abdda4\",\n",
    "    \"#66c2a5\",\n",
    "    \"#3288bd\",\n",
    "    \"#5e4fa2\",\n",
    "]"
   ]
  },
  {
   "cell_type": "markdown",
   "metadata": {},
   "source": [
    "---"
   ]
  },
  {
   "cell_type": "markdown",
   "metadata": {},
   "source": [
    "#### Data cleansing"
   ]
  },
  {
   "cell_type": "markdown",
   "metadata": {},
   "source": [
    "Eliminamos las observaciones sin ground truth en la variable objetivo, ya que no van a ser necesarias para el entrenamiento (debido a la gran cantidad de observaciones con las que contamos y la relativamente baja proporción de datos faltantes en la variable objetivo), y tampoco nos van a ser útiles para evaluar el modelo ya que en la immputación podemos introducir ciertos sesgos."
   ]
  },
  {
   "cell_type": "code",
   "execution_count": 40,
   "metadata": {},
   "outputs": [
    {
     "name": "stdout",
     "output_type": "stream",
     "text": [
      "Proporción de datos faltantes en la variable objetivo: 0.022\n"
     ]
    }
   ],
   "source": [
    "print(\n",
    "    f\"Proporción de datos faltantes en la variable objetivo: {round(df.RainTomorrow.isna().mean(), 3)}\"\n",
    ")"
   ]
  },
  {
   "cell_type": "code",
   "execution_count": 41,
   "metadata": {},
   "outputs": [],
   "source": [
    "df = df.dropna(subset=[\"RainTomorrow\"])"
   ]
  },
  {
   "cell_type": "markdown",
   "metadata": {},
   "source": [
    "---"
   ]
  },
  {
   "cell_type": "markdown",
   "metadata": {},
   "source": [
    "#### Categorical features encoding"
   ]
  },
  {
   "cell_type": "markdown",
   "metadata": {},
   "source": [
    "##### Rain Today and Rain Tomorrow"
   ]
  },
  {
   "cell_type": "code",
   "execution_count": 42,
   "metadata": {},
   "outputs": [],
   "source": [
    "rain_columns = [\"RainToday\", \"RainTomorrow\"]\n",
    "mapping_dict = {\"Yes\" : 1, \"No\" : 0}\n",
    "\n",
    "for column in rain_columns:\n",
    "    df[column] = df[column].map(mapping_dict)"
   ]
  },
  {
   "cell_type": "markdown",
   "metadata": {},
   "source": [
    "##### Location"
   ]
  },
  {
   "cell_type": "code",
   "execution_count": 43,
   "metadata": {},
   "outputs": [],
   "source": [
    "# Geolocate stations\n",
    "country = \"Australia\"\n",
    "\n",
    "mapping_dict = {\"Dartmoor\": \"DartmoorVillage\", \"Richmond\": \"RichmondSydney\"}\n",
    "df[\"Location\"] = df[\"Location\"].map(mapping_dict).fillna(df[\"Location\"])\n",
    "\n",
    "locations = df[\"Location\"].unique()\n",
    "locations = [re.sub(r\"([a-z])([A-Z])\", r\"\\1 \\2\", l) for l in locations]\n",
    "\n",
    "locs = []\n",
    "lats = []\n",
    "lons = []\n",
    "for location in locations:\n",
    "    try:\n",
    "        lat, lon = ox.geocode(location + f\", {country}\")\n",
    "\n",
    "        locs.append(location.replace(\" \", \"\"))\n",
    "        lats.append(lat)\n",
    "        lons.append(lon)\n",
    "    except Exception as e:\n",
    "        print(f\"Error retrieving coordinates for {location}: {e}\")\n",
    "\n",
    "df_locations = pd.DataFrame({\"Location\": locs, \"Lat\": lats, \"Lon\": lons})\n",
    "\n",
    "df = pd.merge(df, df_locations, how=\"left\", on=\"Location\")"
   ]
  },
  {
   "cell_type": "markdown",
   "metadata": {},
   "source": [
    "##### Date"
   ]
  },
  {
   "cell_type": "code",
   "execution_count": 44,
   "metadata": {},
   "outputs": [],
   "source": [
    "df[\"Date\"] = pd.to_datetime(df[\"Date\"])\n",
    "\n",
    "df['DayOfYear'] = df['Date'].dt.dayofyear\n",
    "df['DaysInYear'] = df['Date'].dt.is_leap_year.apply(lambda leap: 366 if leap else 365)\n",
    "\n",
    "df['Angle'] = 2 * np.pi * (df['DayOfYear'] - 1) / (df['DaysInYear'])\n",
    "\n",
    "df['DayCos'] = np.cos(df['Angle'])\n",
    "df['DaySin'] = np.sin(df['Angle'])\n",
    "\n",
    "df = df.drop(columns=[\"DayOfYear\", \"DaysInYear\", \"Angle\"])"
   ]
  },
  {
   "cell_type": "markdown",
   "metadata": {},
   "source": [
    "##### Wind Dir"
   ]
  },
  {
   "cell_type": "code",
   "execution_count": 45,
   "metadata": {},
   "outputs": [],
   "source": [
    "dirs = [\"E\", \"ENE\", \"NE\", \"NNE\", \"N\", \"NNW\", \"NW\", \"WNW\", \"W\", \"WSW\", \"SW\", \"SSW\", \"S\", \"SSE\", \"SE\", \"ESE\"]\n",
    "angles = np.radians(np.arange(0, 360, 22.5))\n",
    "mapping_dict = {d: a for (d, a) in zip(dirs, angles)}\n",
    "\n",
    "wind_dir_columns = [\"WindGustDir\", \"WindDir9am\", \"WindDir3pm\"]\n",
    "for column in wind_dir_columns:\n",
    "    df[f\"{column}Angle\"] = df[column].map(mapping_dict)\n",
    "\n",
    "    df[f\"{column}Cos\"] = np.cos(df[f\"{column}Angle\"])\n",
    "    df[f\"{column}Sin\"] = np.sin(df[f\"{column}Angle\"])\n",
    "\n",
    "    df = df.drop(columns=f\"{column}Angle\")"
   ]
  },
  {
   "cell_type": "markdown",
   "metadata": {},
   "source": [
    "---"
   ]
  },
  {
   "cell_type": "markdown",
   "metadata": {},
   "source": [
    "#### Train Test split"
   ]
  },
  {
   "cell_type": "markdown",
   "metadata": {},
   "source": [
    "Vamos a utilizar una proporción de 0.7|0.15|0.15 para train, validation and test sets respectivamente. Este split no vamos a realizarlo seleccionadas observaciones completamente al azar, sino que por el contrario vamos a considerar todas las observaciones correspondientes a una serie de fechas seleccionadas al azar. Esto nos permitirá evitar el fenómeno de data leaking dado por un modelo que aprenda que en un determinado día y en un determinado sector geográfico hay lluvia al día siguiente (positivo para la clase objetivo) a partir de observaciones para el mismo día en estaciones cercanas entre si. Recordemos que, cómo vimos en el análisis exploratorio de datos, encontramos estaciones meteorológicas muy cercanas entre si con correlaciones cercanas a 0.8 para la probabilidad de lluvia en un mismo día."
   ]
  },
  {
   "cell_type": "code",
   "execution_count": 46,
   "metadata": {},
   "outputs": [],
   "source": [
    "def split_list(data, train_ratio=0.7, val_ratio=0.15, test_ratio=0.15):\n",
    "    if train_ratio + val_ratio + test_ratio != 1.0:\n",
    "        raise ValueError(\"The sum of the split ratios must be 1.0\")\n",
    "    \n",
    "    random.shuffle(data)\n",
    "\n",
    "    total_size = len(data)\n",
    "    train_size = int(total_size * train_ratio)\n",
    "    val_size = int(total_size * val_ratio)\n",
    "    \n",
    "    train_set = data[:train_size]\n",
    "    val_set = data[train_size:(train_size + val_size)]\n",
    "    test_set = data[(train_size + val_size):]\n",
    "    \n",
    "    return train_set, val_set, test_set"
   ]
  },
  {
   "cell_type": "code",
   "execution_count": 47,
   "metadata": {},
   "outputs": [],
   "source": [
    "list_dates = df[\"Date\"].unique().tolist()\n",
    "train_dates, val_dates, test_dates = split_list(list_dates)\n",
    "\n",
    "train_filt = df[\"Date\"].isin(train_dates + val_dates)\n",
    "train_set = df.loc[train_filt, :].reset_index(drop=True)\n",
    "\n",
    "test_filt = df[\"Date\"].isin(test_dates)\n",
    "test_set = df.loc[test_filt, :].reset_index(drop=True)"
   ]
  },
  {
   "cell_type": "markdown",
   "metadata": {},
   "source": [
    "---"
   ]
  },
  {
   "cell_type": "markdown",
   "metadata": {},
   "source": [
    "#### Numeric data transformation"
   ]
  },
  {
   "cell_type": "code",
   "execution_count": 48,
   "metadata": {},
   "outputs": [],
   "source": [
    "numeric_columns = [\n",
    "    \"MinTemp\",\n",
    "    \"MaxTemp\",\n",
    "    \"Rainfall\",\n",
    "    \"Evaporation\",\n",
    "    \"Sunshine\",\n",
    "    \"WindGustSpeed\",\n",
    "    \"WindSpeed9am\",\n",
    "    \"WindSpeed3pm\",\n",
    "    \"Humidity9am\",\n",
    "    \"Humidity3pm\",\n",
    "    \"Pressure9am\",\n",
    "    \"Pressure3pm\",\n",
    "    \"Cloud9am\",\n",
    "    \"Cloud3pm\",\n",
    "    \"Temp9am\",\n",
    "    \"Temp3pm\"\n",
    "]"
   ]
  },
  {
   "cell_type": "code",
   "execution_count": 49,
   "metadata": {},
   "outputs": [
    {
     "data": {
      "image/png": "[encoded data removed]",
      "text/plain": [
       "<Figure size 1200x800 with 16 Axes>"
      ]
     },
     "metadata": {},
     "output_type": "display_data"
    }
   ],
   "source": [
    "plt.rcParams.update({'font.size': 6})\n",
    "train_set[numeric_columns].hist(bins=50, figsize=(12, 8))\n",
    "plt.subplots_adjust(hspace=0.4, wspace=0.25)\n",
    "plt.show()"
   ]
  },
  {
   "cell_type": "code",
   "execution_count": 50,
   "metadata": {},
   "outputs": [
    {
     "data": {
      "text/plain": [
       "MinTemp           -0.489722\n",
       "MaxTemp           -0.237807\n",
       "Rainfall         185.446037\n",
       "Evaporation       47.464434\n",
       "Sunshine          -0.825532\n",
       "WindGustSpeed      1.409267\n",
       "WindSpeed9am       1.206857\n",
       "WindSpeed3pm       0.770985\n",
       "Humidity9am       -0.045800\n",
       "Humidity3pm       -0.516242\n",
       "Pressure9am        0.226843\n",
       "Pressure3pm        0.107626\n",
       "Cloud9am          -1.542493\n",
       "Cloud3pm          -1.458780\n",
       "Temp9am           -0.349470\n",
       "Temp3pm           -0.145123\n",
       "dtype: float64"
      ]
     },
     "execution_count": 50,
     "metadata": {},
     "output_type": "execute_result"
    }
   ],
   "source": [
    "train_set[numeric_columns].kurtosis(numeric_only=True)"
   ]
  },
  {
   "cell_type": "markdown",
   "metadata": {},
   "source": [
    "_Cabe remarcar, que la oblicuidad de la variable Rainfall se debe principalmente al desbalanceo del dataset (mayor cantidad de observaciones con clase negativa para las variables RainToday y RainTomorrow) y la relación determinística entre esta variable cuando asume valor 0 y un valor negativo para la variable RainToday._"
   ]
  },
  {
   "cell_type": "markdown",
   "metadata": {},
   "source": [
    "Vamos a utilizar la función logarítmica en las variables \"Rainfall\" y \"Evaporation\" cuya métrica de oblicuidad es mayor a 2."
   ]
  },
  {
   "cell_type": "code",
   "execution_count": 51,
   "metadata": {},
   "outputs": [],
   "source": [
    "right_skewed_columns = [\"Rainfall\", \"Evaporation\"]\n",
    "for column in right_skewed_columns:\n",
    "    train_set[column] = np.log(train_set[column]+1)"
   ]
  },
  {
   "cell_type": "markdown",
   "metadata": {},
   "source": [
    "---"
   ]
  },
  {
   "cell_type": "markdown",
   "metadata": {},
   "source": [
    "#### Missing values imputation"
   ]
  },
  {
   "cell_type": "code",
   "execution_count": 52,
   "metadata": {},
   "outputs": [],
   "source": [
    "index_columns = [\"Date\", \"Location\"]\n",
    "\n",
    "feature_columns = [\n",
    "    \"Lat\",\n",
    "    \"Lon\",\n",
    "    \"DayCos\",\n",
    "    \"DaySin\",\n",
    "    \"MinTemp\",\n",
    "    \"MaxTemp\",\n",
    "    \"Rainfall\",\n",
    "    \"Evaporation\",\n",
    "    \"Sunshine\",\n",
    "    \"WindGustSpeed\",\n",
    "    \"WindSpeed9am\",\n",
    "    \"WindSpeed3pm\",\n",
    "    \"WindGustDirCos\",\n",
    "    \"WindGustDirSin\",\n",
    "    \"WindDir9amCos\",\n",
    "    \"WindDir9amSin\",\n",
    "    \"WindDir3pmCos\",\n",
    "    \"WindDir3pmSin\",\n",
    "    \"Humidity9am\",\n",
    "    \"Humidity3pm\",\n",
    "    \"Pressure9am\",\n",
    "    \"Pressure3pm\",\n",
    "    \"Cloud9am\",\n",
    "    \"Cloud3pm\",\n",
    "    \"Temp9am\",\n",
    "    \"Temp3pm\",\n",
    "    \"RainToday\",\n",
    "]\n",
    "\n",
    "target_column = [\"RainTomorrow\"]"
   ]
  },
  {
   "cell_type": "code",
   "execution_count": 59,
   "metadata": {},
   "outputs": [],
   "source": [
    "na_features_count = (\n",
    "    pd.DataFrame(\n",
    "        train_set[index_columns + feature_columns]\n",
    "        .set_index(index_columns)\n",
    "        .isna()\n",
    "        .sum(axis=1)\n",
    "    )\n",
    "    .rename(columns={0: \"count\"})\n",
    "    .sort_values(by=\"count\", ascending=False)\n",
    ")"
   ]
  },
  {
   "cell_type": "code",
   "execution_count": 67,
   "metadata": {},
   "outputs": [
    {
     "data": {
      "text/plain": [
       "Location\n",
       "Newcastle          458\n",
       "CoffsHarbour       209\n",
       "Canberra           167\n",
       "MountGinini        147\n",
       "Albany              32\n",
       "SalmonGums          25\n",
       "PearceRAAF           9\n",
       "Cobar                6\n",
       "BadgerysCreek        5\n",
       "RichmondSydney       5\n",
       "Penrith              4\n",
       "NorahHead            2\n",
       "Adelaide             2\n",
       "Walpole              2\n",
       "Tuggeranong          1\n",
       "Witchcliffe          1\n",
       "DartmoorVillage      1\n",
       "Moree                1\n",
       "Sale                 1\n",
       "Ballarat             1\n",
       "Williamtown          1\n",
       "Nuriootpa            1\n",
       "Name: count, dtype: int64"
      ]
     },
     "execution_count": 67,
     "metadata": {},
     "output_type": "execute_result"
    }
   ],
   "source": [
    "filt = na_features_count[\"count\"] > len(feature_columns) / 2\n",
    "na_features_count.loc[filt, :].reset_index()[\"Location\"].value_counts()"
   ]
  },
  {
   "cell_type": "code",
   "execution_count": 72,
   "metadata": {},
   "outputs": [],
   "source": [
    "geometry = [Point(lon, lat) for lon, lat in zip(df_locations['Lon'], df_locations['Lat'])]\n",
    "gdf_locations = gpd.GeoDataFrame(df_locations, geometry=geometry, crs=\"EPSG:4326\")\n",
    "\n",
    "locations = gdf_locations[\"Location\"].unique()\n",
    "location_pairs = list(combinations(locations, 2))\n",
    "\n",
    "df_location_pairs = pd.DataFrame(location_pairs, columns=['LocationA', 'LocationB'])\n",
    "\n",
    "df_location_a = df_location_pairs[[\"LocationA\"]].merge(\n",
    "    gdf_locations[[\"Location\", \"geometry\"]],\n",
    "    how=\"left\",\n",
    "    left_on=\"LocationA\",\n",
    "    right_on=\"Location\",\n",
    ")\n",
    "gdf_location_a = gpd.GeoDataFrame(df_location_a, geometry=\"geometry\")\n",
    "gdf_location_a_gda94 = gdf_location_a.to_crs(epsg=3112)\n",
    "\n",
    "df_location_b = df_location_pairs[[\"LocationB\"]].merge(\n",
    "    gdf_locations[[\"Location\", \"geometry\"]],\n",
    "    how=\"left\",\n",
    "    left_on=\"LocationB\",\n",
    "    right_on=\"Location\",\n",
    ")\n",
    "gdf_location_b = gpd.GeoDataFrame(df_location_b, geometry=\"geometry\")\n",
    "gdf_location_b_gda94 = gdf_location_b.to_crs(epsg=3112)\n",
    "\n",
    "distance_ab = gdf_location_a_gda94[\"geometry\"].distance(gdf_location_b_gda94[\"geometry\"])\n",
    "\n",
    "df_location_pairs[\"distance\"] = distance_ab / 1000 # distance in kilometers"
   ]
  },
  {
   "cell_type": "code",
   "execution_count": 79,
   "metadata": {},
   "outputs": [],
   "source": [
    "locations = df[\"Location\"].unique()\n",
    "location_pairs = list(combinations(locations, 2))\n",
    "\n",
    "df_location_pairs = pd.DataFrame(location_pairs, columns=['LocationA', 'LocationB'])\n",
    "df_location_pairs['phi'] = np.nan\n",
    "df_location_pairs['pvalue'] = np.nan\n",
    "\n",
    "for index, row in df_location_pairs.iterrows():\n",
    "    loc1, loc2 = row['LocationA'], row['LocationB']\n",
    "    df_pair = df[df['Location'].isin([loc1, loc2])]\n",
    "    df_pivot = df_pair.pivot(index='Date', columns='Location', values='RainToday').dropna()\n",
    "    \n",
    "    if not df_pivot.empty:\n",
    "        confusion_matrix = pd.crosstab(df_pivot[loc1], df_pivot[loc2])\n",
    "        phi, pvalue = utils.phi_coefficient(confusion_matrix.values)\n",
    "        df_location_pairs.at[index, 'phi'] = phi\n",
    "        df_location_pairs.at[index, 'pvalue'] = pvalue"
   ]
  },
  {
   "cell_type": "code",
   "execution_count": 80,
   "metadata": {},
   "outputs": [],
   "source": [
    "df_location_a = df_location_pairs[[\"LocationA\"]].merge(\n",
    "    gdf_locations[[\"Location\", \"geometry\"]],\n",
    "    how=\"left\",\n",
    "    left_on=\"LocationA\",\n",
    "    right_on=\"Location\",\n",
    ")\n",
    "gdf_location_a = gpd.GeoDataFrame(df_location_a, geometry=\"geometry\")\n",
    "gdf_location_a_gda94 = gdf_location_a.to_crs(epsg=3112)\n",
    "\n",
    "df_location_b = df_location_pairs[[\"LocationB\"]].merge(\n",
    "    gdf_locations[[\"Location\", \"geometry\"]],\n",
    "    how=\"left\",\n",
    "    left_on=\"LocationB\",\n",
    "    right_on=\"Location\",\n",
    ")\n",
    "gdf_location_b = gpd.GeoDataFrame(df_location_b, geometry=\"geometry\")\n",
    "gdf_location_b_gda94 = gdf_location_b.to_crs(epsg=3112)\n",
    "\n",
    "distance_ab = gdf_location_a_gda94[\"geometry\"].distance(gdf_location_b_gda94[\"geometry\"])\n",
    "\n",
    "df_location_pairs[\"distance\"] = distance_ab / 1000 # distance in kilometers"
   ]
  },
  {
   "cell_type": "code",
   "execution_count": 81,
   "metadata": {},
   "outputs": [
    {
     "data": {
      "text/html": [
       "<div>\n",
       "<style scoped>\n",
       "    .dataframe tbody tr th:only-of-type {\n",
       "        vertical-align: middle;\n",
       "    }\n",
       "\n",
       "    .dataframe tbody tr th {\n",
       "        vertical-align: top;\n",
       "    }\n",
       "\n",
       "    .dataframe thead th {\n",
       "        text-align: right;\n",
       "    }\n",
       "</style>\n",
       "<table border=\"1\" class=\"dataframe\">\n",
       "  <thead>\n",
       "    <tr style=\"text-align: right;\">\n",
       "      <th></th>\n",
       "      <th>LocationA</th>\n",
       "      <th>LocationB</th>\n",
       "      <th>phi</th>\n",
       "      <th>pvalue</th>\n",
       "      <th>distance</th>\n",
       "    </tr>\n",
       "  </thead>\n",
       "  <tbody>\n",
       "    <tr>\n",
       "      <th>1131</th>\n",
       "      <td>PerthAirport</td>\n",
       "      <td>Perth</td>\n",
       "      <td>0.868273</td>\n",
       "      <td>0.000000e+00</td>\n",
       "      <td>10.170125</td>\n",
       "    </tr>\n",
       "    <tr>\n",
       "      <th>435</th>\n",
       "      <td>Sydney</td>\n",
       "      <td>SydneyAirport</td>\n",
       "      <td>0.834408</td>\n",
       "      <td>0.000000e+00</td>\n",
       "      <td>9.159054</td>\n",
       "    </tr>\n",
       "    <tr>\n",
       "      <th>615</th>\n",
       "      <td>Canberra</td>\n",
       "      <td>Tuggeranong</td>\n",
       "      <td>0.832272</td>\n",
       "      <td>0.000000e+00</td>\n",
       "      <td>13.690617</td>\n",
       "    </tr>\n",
       "    <tr>\n",
       "      <th>1121</th>\n",
       "      <td>PearceRAAF</td>\n",
       "      <td>PerthAirport</td>\n",
       "      <td>0.808868</td>\n",
       "      <td>0.000000e+00</td>\n",
       "      <td>29.675737</td>\n",
       "    </tr>\n",
       "    <tr>\n",
       "      <th>356</th>\n",
       "      <td>Penrith</td>\n",
       "      <td>RichmondSydney</td>\n",
       "      <td>0.795472</td>\n",
       "      <td>0.000000e+00</td>\n",
       "      <td>17.339476</td>\n",
       "    </tr>\n",
       "    <tr>\n",
       "      <th>950</th>\n",
       "      <td>DartmoorVillage</td>\n",
       "      <td>MountGambier</td>\n",
       "      <td>0.776626</td>\n",
       "      <td>0.000000e+00</td>\n",
       "      <td>45.125869</td>\n",
       "    </tr>\n",
       "    <tr>\n",
       "      <th>1122</th>\n",
       "      <td>PearceRAAF</td>\n",
       "      <td>Perth</td>\n",
       "      <td>0.775134</td>\n",
       "      <td>0.000000e+00</td>\n",
       "      <td>34.306090</td>\n",
       "    </tr>\n",
       "    <tr>\n",
       "      <th>54</th>\n",
       "      <td>BadgerysCreek</td>\n",
       "      <td>Penrith</td>\n",
       "      <td>0.775131</td>\n",
       "      <td>0.000000e+00</td>\n",
       "      <td>15.112316</td>\n",
       "    </tr>\n",
       "    <tr>\n",
       "      <th>828</th>\n",
       "      <td>Melbourne</td>\n",
       "      <td>Watsonia</td>\n",
       "      <td>0.757644</td>\n",
       "      <td>2.988961e-264</td>\n",
       "      <td>15.719700</td>\n",
       "    </tr>\n",
       "    <tr>\n",
       "      <th>55</th>\n",
       "      <td>BadgerysCreek</td>\n",
       "      <td>RichmondSydney</td>\n",
       "      <td>0.744563</td>\n",
       "      <td>0.000000e+00</td>\n",
       "      <td>30.966137</td>\n",
       "    </tr>\n",
       "  </tbody>\n",
       "</table>\n",
       "</div>"
      ],
      "text/plain": [
       "            LocationA       LocationB       phi         pvalue   distance\n",
       "1131     PerthAirport           Perth  0.868273   0.000000e+00  10.170125\n",
       "435            Sydney   SydneyAirport  0.834408   0.000000e+00   9.159054\n",
       "615          Canberra     Tuggeranong  0.832272   0.000000e+00  13.690617\n",
       "1121       PearceRAAF    PerthAirport  0.808868   0.000000e+00  29.675737\n",
       "356           Penrith  RichmondSydney  0.795472   0.000000e+00  17.339476\n",
       "950   DartmoorVillage    MountGambier  0.776626   0.000000e+00  45.125869\n",
       "1122       PearceRAAF           Perth  0.775134   0.000000e+00  34.306090\n",
       "54      BadgerysCreek         Penrith  0.775131   0.000000e+00  15.112316\n",
       "828         Melbourne        Watsonia  0.757644  2.988961e-264  15.719700\n",
       "55      BadgerysCreek  RichmondSydney  0.744563   0.000000e+00  30.966137"
      ]
     },
     "execution_count": 81,
     "metadata": {},
     "output_type": "execute_result"
    }
   ],
   "source": [
    "filt = df_location_a"
   ]
  },
  {
   "cell_type": "code",
   "execution_count": 86,
   "metadata": {},
   "outputs": [
    {
     "data": {
      "text/html": [
       "<div>\n",
       "<style scoped>\n",
       "    .dataframe tbody tr th:only-of-type {\n",
       "        vertical-align: middle;\n",
       "    }\n",
       "\n",
       "    .dataframe tbody tr th {\n",
       "        vertical-align: top;\n",
       "    }\n",
       "\n",
       "    .dataframe thead th {\n",
       "        text-align: right;\n",
       "    }\n",
       "</style>\n",
       "<table border=\"1\" class=\"dataframe\">\n",
       "  <thead>\n",
       "    <tr style=\"text-align: right;\">\n",
       "      <th></th>\n",
       "      <th>LocationA</th>\n",
       "      <th>LocationB</th>\n",
       "      <th>phi</th>\n",
       "      <th>pvalue</th>\n",
       "      <th>distance</th>\n",
       "    </tr>\n",
       "  </thead>\n",
       "  <tbody>\n",
       "    <tr>\n",
       "      <th>1103</th>\n",
       "      <td>Albany</td>\n",
       "      <td>Walpole</td>\n",
       "      <td>0.623179</td>\n",
       "      <td>3.213975e-232</td>\n",
       "      <td>105.066740</td>\n",
       "    </tr>\n",
       "    <tr>\n",
       "      <th>1098</th>\n",
       "      <td>Albany</td>\n",
       "      <td>Witchcliffe</td>\n",
       "      <td>0.529060</td>\n",
       "      <td>2.512429e-177</td>\n",
       "      <td>277.430379</td>\n",
       "    </tr>\n",
       "    <tr>\n",
       "      <th>1100</th>\n",
       "      <td>Albany</td>\n",
       "      <td>PerthAirport</td>\n",
       "      <td>0.461122</td>\n",
       "      <td>3.974266e-139</td>\n",
       "      <td>383.345263</td>\n",
       "    </tr>\n",
       "    <tr>\n",
       "      <th>1101</th>\n",
       "      <td>Albany</td>\n",
       "      <td>Perth</td>\n",
       "      <td>0.470361</td>\n",
       "      <td>3.613736e-146</td>\n",
       "      <td>386.529836</td>\n",
       "    </tr>\n",
       "    <tr>\n",
       "      <th>1099</th>\n",
       "      <td>Albany</td>\n",
       "      <td>PearceRAAF</td>\n",
       "      <td>0.428011</td>\n",
       "      <td>5.441950e-106</td>\n",
       "      <td>407.681517</td>\n",
       "    </tr>\n",
       "  </tbody>\n",
       "</table>\n",
       "</div>"
      ],
      "text/plain": [
       "     LocationA     LocationB       phi         pvalue    distance\n",
       "1103    Albany       Walpole  0.623179  3.213975e-232  105.066740\n",
       "1098    Albany   Witchcliffe  0.529060  2.512429e-177  277.430379\n",
       "1100    Albany  PerthAirport  0.461122  3.974266e-139  383.345263\n",
       "1101    Albany         Perth  0.470361  3.613736e-146  386.529836\n",
       "1099    Albany    PearceRAAF  0.428011  5.441950e-106  407.681517"
      ]
     },
     "execution_count": 86,
     "metadata": {},
     "output_type": "execute_result"
    }
   ],
   "source": [
    "loc  = \"Albany\"\n",
    "\n",
    "filt = (df_location_pairs[\"LocationA\"]==loc) | (df_location_pairs[\"LocationB\"]==loc)\n",
    "df_location_pairs.loc[filt, :].sort_values(by=\"distance\").head()"
   ]
  },
  {
   "cell_type": "markdown",
   "metadata": {},
   "source": [
    "Yo las puedo borrar de acá a esas observaciones. Lo importante es pensar que voy a hacer con ellas llegado el momento de testear. Sería interesante tener una suerte de pipeline para resolver al menos las más graves utilizando las estaciones meteorológicas más cercanas."
   ]
  }
 ],
 "metadata": {
  "kernelspec": {
   "display_name": "2023_CEIA-n1a1_Nsd",
   "language": "python",
   "name": "python3"
  },
  "language_info": {
   "codemirror_mode": {
    "name": "ipython",
    "version": 3
   },
   "file_extension": ".py",
   "mimetype": "text/x-python",
   "name": "python",
   "nbconvert_exporter": "python",
   "pygments_lexer": "ipython3",
   "version": "3.11.9"
  }
 },
 "nbformat": 4,
 "nbformat_minor": 2
}
