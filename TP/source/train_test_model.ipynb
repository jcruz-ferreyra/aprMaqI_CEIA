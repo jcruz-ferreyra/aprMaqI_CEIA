{
 "cells": [
  {
   "cell_type": "code",
   "execution_count": 146,
   "metadata": {},
   "outputs": [],
   "source": [
    "import random\n",
    "import re\n",
    "from itertools import combinations\n",
    "from pathlib import Path\n",
    "\n",
    "import matplotlib.pyplot as plt\n",
    "import numpy as np\n",
    "import osmnx as ox\n",
    "import pandas as pd\n",
    "from imblearn.over_sampling import SMOTE\n",
    "from scipy.stats import chi2_contingency, pearsonr, rv_discrete\n",
    "from sklearn import set_config\n",
    "from sklearn.ensemble import RandomForestClassifier\n",
    "from sklearn.experimental import enable_iterative_imputer\n",
    "from sklearn.impute import IterativeImputer\n",
    "from sklearn.linear_model import LogisticRegression, Ridge, SGDClassifier\n",
    "from sklearn.metrics import (accuracy_score, confusion_matrix, f1_score,\n",
    "                             precision_score, recall_score)\n",
    "from sklearn.model_selection import (RandomizedSearchCV, cross_val_predict,\n",
    "                                     cross_val_score, train_test_split)\n",
    "from sklearn.pipeline import make_pipeline\n",
    "from sklearn.preprocessing import StandardScaler\n",
    "from sklearn.utils import resample\n",
    "from tqdm.notebook import tqdm"
   ]
  },
  {
   "cell_type": "code",
   "execution_count": 2,
   "metadata": {},
   "outputs": [],
   "source": [
    "pd.options.mode.chained_assignment = None\n",
    "\n",
    "set_config(enable_metadata_routing=True)\n",
    "\n",
    "np.seterr(invalid='ignore')\n",
    "\n",
    "random_seed = 42\n",
    "random.seed(random_seed)\n",
    "\n",
    "main_path = Path.cwd() / \"..\"\n",
    "df = pd.read_csv(main_path / \"data/weatherAUS.csv\")\n",
    "\n",
    "spectral_palette = [\n",
    "    \"#9e0142\",\n",
    "    \"#d53e4f\",\n",
    "    \"#f46d43\",\n",
    "    \"#fdae61\",\n",
    "    \"#fee08b\",\n",
    "    \"#ffffbf\",\n",
    "    \"#e6f598\",\n",
    "    \"#abdda4\",\n",
    "    \"#66c2a5\",\n",
    "    \"#3288bd\",\n",
    "    \"#5e4fa2\",\n",
    "]"
   ]
  },
  {
   "cell_type": "markdown",
   "metadata": {},
   "source": [
    "---"
   ]
  },
  {
   "cell_type": "markdown",
   "metadata": {},
   "source": [
    "#### Data cleansing"
   ]
  },
  {
   "cell_type": "markdown",
   "metadata": {},
   "source": [
    "Eliminamos las observaciones sin ground truth en la variable objetivo, ya que no van a ser necesarias para el entrenamiento (debido a la gran cantidad de observaciones con las que contamos y la relativamente baja proporción de datos faltantes en la variable objetivo), y tampoco nos van a ser útiles para evaluar el modelo ya que en la immputación podemos introducir ciertos sesgos."
   ]
  },
  {
   "cell_type": "code",
   "execution_count": 3,
   "metadata": {},
   "outputs": [
    {
     "name": "stdout",
     "output_type": "stream",
     "text": [
      "Proporción de datos faltantes en la variable objetivo: 0.022\n"
     ]
    }
   ],
   "source": [
    "print(\n",
    "    f\"Proporción de datos faltantes en la variable objetivo: {round(df.RainTomorrow.isna().mean(), 3)}\"\n",
    ")"
   ]
  },
  {
   "cell_type": "code",
   "execution_count": 4,
   "metadata": {},
   "outputs": [],
   "source": [
    "df = df.dropna(subset=[\"RainTomorrow\"])"
   ]
  },
  {
   "cell_type": "markdown",
   "metadata": {},
   "source": [
    "---"
   ]
  },
  {
   "cell_type": "markdown",
   "metadata": {},
   "source": [
    "#### Categorical features encoding"
   ]
  },
  {
   "cell_type": "markdown",
   "metadata": {},
   "source": [
    "##### Rain Today and Rain Tomorrow"
   ]
  },
  {
   "cell_type": "code",
   "execution_count": 5,
   "metadata": {},
   "outputs": [],
   "source": [
    "rain_columns = [\"RainToday\", \"RainTomorrow\"]\n",
    "mapping_dict = {\"Yes\" : 1, \"No\" : 0}\n",
    "\n",
    "for column in rain_columns:\n",
    "    df[column] = df[column].map(mapping_dict)"
   ]
  },
  {
   "cell_type": "markdown",
   "metadata": {},
   "source": [
    "##### Location"
   ]
  },
  {
   "cell_type": "code",
   "execution_count": 6,
   "metadata": {},
   "outputs": [],
   "source": [
    "# Geolocate stations\n",
    "country = \"Australia\"\n",
    "\n",
    "mapping_dict = {\"Dartmoor\": \"DartmoorVillage\", \"Richmond\": \"RichmondSydney\"}\n",
    "df[\"Location\"] = df[\"Location\"].map(mapping_dict).fillna(df[\"Location\"])\n",
    "\n",
    "locations = df[\"Location\"].unique()\n",
    "locations = [re.sub(r\"([a-z])([A-Z])\", r\"\\1 \\2\", l) for l in locations]\n",
    "\n",
    "locs = []\n",
    "lats = []\n",
    "lons = []\n",
    "for location in locations:\n",
    "    try:\n",
    "        lat, lon = ox.geocode(location + f\", {country}\")\n",
    "\n",
    "        locs.append(location.replace(\" \", \"\"))\n",
    "        lats.append(lat)\n",
    "        lons.append(lon)\n",
    "    except Exception as e:\n",
    "        print(f\"Error retrieving coordinates for {location}: {e}\")\n",
    "\n",
    "df_locations = pd.DataFrame({\"Location\": locs, \"Lat\": lats, \"Lon\": lons})\n",
    "\n",
    "df = pd.merge(df, df_locations, how=\"left\", on=\"Location\")"
   ]
  },
  {
   "cell_type": "markdown",
   "metadata": {},
   "source": [
    "##### Date"
   ]
  },
  {
   "cell_type": "code",
   "execution_count": 7,
   "metadata": {},
   "outputs": [],
   "source": [
    "df[\"Date\"] = pd.to_datetime(df[\"Date\"])\n",
    "\n",
    "df['DayOfYear'] = df['Date'].dt.dayofyear\n",
    "df['DaysInYear'] = df['Date'].dt.is_leap_year.apply(lambda leap: 366 if leap else 365)\n",
    "\n",
    "df['Angle'] = 2 * np.pi * (df['DayOfYear'] - 1) / (df['DaysInYear'])\n",
    "\n",
    "df['DayCos'] = np.cos(df['Angle'])\n",
    "df['DaySin'] = np.sin(df['Angle'])\n",
    "\n",
    "df = df.drop(columns=[\"DayOfYear\", \"DaysInYear\", \"Angle\"])"
   ]
  },
  {
   "cell_type": "markdown",
   "metadata": {},
   "source": [
    "##### Wind Dir"
   ]
  },
  {
   "cell_type": "code",
   "execution_count": 8,
   "metadata": {},
   "outputs": [],
   "source": [
    "dirs = [\"E\", \"ENE\", \"NE\", \"NNE\", \"N\", \"NNW\", \"NW\", \"WNW\", \"W\", \"WSW\", \"SW\", \"SSW\", \"S\", \"SSE\", \"SE\", \"ESE\"]\n",
    "angles = np.radians(np.arange(0, 360, 22.5))\n",
    "mapping_dict = {d: a for (d, a) in zip(dirs, angles)}\n",
    "\n",
    "wind_dir_columns = [\"WindGustDir\", \"WindDir9am\", \"WindDir3pm\"]\n",
    "for column in wind_dir_columns:\n",
    "    df[f\"{column}Angle\"] = df[column].map(mapping_dict)\n",
    "\n",
    "    df[f\"{column}Cos\"] = np.cos(df[f\"{column}Angle\"])\n",
    "    df[f\"{column}Sin\"] = np.sin(df[f\"{column}Angle\"])\n",
    "\n",
    "    df = df.drop(columns=f\"{column}Angle\")"
   ]
  },
  {
   "cell_type": "markdown",
   "metadata": {},
   "source": [
    "---"
   ]
  },
  {
   "cell_type": "markdown",
   "metadata": {},
   "source": [
    "#### Train Test split"
   ]
  },
  {
   "cell_type": "markdown",
   "metadata": {},
   "source": [
    "Vamos a utilizar una proporción de 0.7|0.15|0.15 para train, validation and test sets respectivamente. Este split no vamos a realizarlo seleccionadas observaciones completamente al azar, sino que por el contrario vamos a considerar todas las observaciones correspondientes a una serie de fechas seleccionadas al azar. Esto nos permitirá evitar el fenómeno de data leaking dado por un modelo que aprenda que en un determinado día y en un determinado sector geográfico hay lluvia al día siguiente (positivo para la clase objetivo) a partir de observaciones para el mismo día en estaciones cercanas entre si. Recordemos que, cómo vimos en el análisis exploratorio de datos, encontramos estaciones meteorológicas muy cercanas entre si con correlaciones cercanas a 0.8 para la probabilidad de lluvia en un mismo día."
   ]
  },
  {
   "cell_type": "code",
   "execution_count": 9,
   "metadata": {},
   "outputs": [],
   "source": [
    "def split_list(data, train_ratio=0.7, val_ratio=0.15, test_ratio=0.15):\n",
    "    if train_ratio + val_ratio + test_ratio != 1.0:\n",
    "        raise ValueError(\"The sum of the split ratios must be 1.0\")\n",
    "    \n",
    "    random.shuffle(data)\n",
    "\n",
    "    total_size = len(data)\n",
    "    train_size = int(total_size * train_ratio)\n",
    "    val_size = int(total_size * val_ratio)\n",
    "    \n",
    "    train_set = data[:train_size]\n",
    "    val_set = data[train_size:(train_size + val_size)]\n",
    "    test_set = data[(train_size + val_size):]\n",
    "    \n",
    "    return train_set, val_set, test_set"
   ]
  },
  {
   "cell_type": "code",
   "execution_count": 10,
   "metadata": {},
   "outputs": [],
   "source": [
    "list_dates = df[\"Date\"].unique().tolist()\n",
    "train_dates, val_dates, test_dates = split_list(list_dates)\n",
    "\n",
    "train_filt = df[\"Date\"].isin(train_dates + val_dates)\n",
    "train_set = df.loc[train_filt, :].reset_index(drop=True)\n",
    "\n",
    "test_filt = df[\"Date\"].isin(test_dates)\n",
    "test_set = df.loc[test_filt, :].reset_index(drop=True)"
   ]
  },
  {
   "cell_type": "markdown",
   "metadata": {},
   "source": [
    "---"
   ]
  },
  {
   "cell_type": "markdown",
   "metadata": {},
   "source": [
    "#### Numeric skeweness reduction"
   ]
  },
  {
   "cell_type": "code",
   "execution_count": 11,
   "metadata": {},
   "outputs": [],
   "source": [
    "train_set_skew = train_set.copy()\n",
    "\n",
    "numeric_columns = [\n",
    "    \"MinTemp\",\n",
    "    \"MaxTemp\",\n",
    "    \"Rainfall\",\n",
    "    \"Evaporation\",\n",
    "    \"Sunshine\",\n",
    "    \"WindGustSpeed\",\n",
    "    \"WindSpeed9am\",\n",
    "    \"WindSpeed3pm\",\n",
    "    \"Humidity9am\",\n",
    "    \"Humidity3pm\",\n",
    "    \"Pressure9am\",\n",
    "    \"Pressure3pm\",\n",
    "    \"Cloud9am\",\n",
    "    \"Cloud3pm\",\n",
    "    \"Temp9am\",\n",
    "    \"Temp3pm\"\n",
    "]"
   ]
  },
  {
   "cell_type": "code",
   "execution_count": 12,
   "metadata": {},
   "outputs": [
    {
     "data": {
      "image/png": "[encoded data removed]",
      "text/plain": [
       "<Figure size 1200x800 with 16 Axes>"
      ]
     },
     "metadata": {},
     "output_type": "display_data"
    }
   ],
   "source": [
    "plt.rcParams.update({'font.size': 6})\n",
    "train_set_skew[numeric_columns].hist(bins=50, figsize=(12, 8))\n",
    "plt.subplots_adjust(hspace=0.4, wspace=0.25)\n",
    "plt.show()"
   ]
  },
  {
   "cell_type": "code",
   "execution_count": 13,
   "metadata": {},
   "outputs": [
    {
     "data": {
      "text/plain": [
       "MinTemp           -0.489722\n",
       "MaxTemp           -0.237807\n",
       "Rainfall         185.446037\n",
       "Evaporation       47.464434\n",
       "Sunshine          -0.825532\n",
       "WindGustSpeed      1.409267\n",
       "WindSpeed9am       1.206857\n",
       "WindSpeed3pm       0.770985\n",
       "Humidity9am       -0.045800\n",
       "Humidity3pm       -0.516242\n",
       "Pressure9am        0.226843\n",
       "Pressure3pm        0.107626\n",
       "Cloud9am          -1.542493\n",
       "Cloud3pm          -1.458780\n",
       "Temp9am           -0.349470\n",
       "Temp3pm           -0.145123\n",
       "dtype: float64"
      ]
     },
     "execution_count": 13,
     "metadata": {},
     "output_type": "execute_result"
    }
   ],
   "source": [
    "train_set_skew[numeric_columns].kurtosis(numeric_only=True)"
   ]
  },
  {
   "cell_type": "markdown",
   "metadata": {},
   "source": [
    "_Cabe remarcar, que la oblicuidad de la variable Rainfall se debe principalmente al desbalanceo del dataset (mayor cantidad de observaciones con clase negativa para las variables RainToday y RainTomorrow) y la relación determinística entre esta variable cuando asume valor 0 y un valor negativo para la variable RainToday._"
   ]
  },
  {
   "cell_type": "markdown",
   "metadata": {},
   "source": [
    "Vamos a utilizar la función logarítmica en las variables \"Rainfall\" y \"Evaporation\" cuya métrica de oblicuidad es mayor a 2."
   ]
  },
  {
   "cell_type": "code",
   "execution_count": 14,
   "metadata": {},
   "outputs": [],
   "source": [
    "right_skewed_columns = [\"Rainfall\", \"Evaporation\"]\n",
    "for column in right_skewed_columns:\n",
    "    train_set_skew[f\"{column}Log\"] = np.log(train_set_skew[column]+1)"
   ]
  },
  {
   "cell_type": "markdown",
   "metadata": {},
   "source": [
    "---"
   ]
  },
  {
   "cell_type": "markdown",
   "metadata": {},
   "source": [
    "#### Numeric outliers handling"
   ]
  },
  {
   "cell_type": "code",
   "execution_count": 15,
   "metadata": {},
   "outputs": [],
   "source": [
    "train_set_outliers = train_set_skew.copy()\n",
    "\n",
    "numeric_columns = [\n",
    "    \"MinTemp\",\n",
    "    \"MaxTemp\",\n",
    "    \"RainfallLog\",\n",
    "    \"EvaporationLog\",\n",
    "    \"Sunshine\",\n",
    "    \"WindGustSpeed\",\n",
    "    \"WindSpeed9am\",\n",
    "    \"WindSpeed3pm\",\n",
    "    \"Humidity9am\",\n",
    "    \"Humidity3pm\",\n",
    "    \"Pressure9am\",\n",
    "    \"Pressure3pm\",\n",
    "    \"Cloud9am\",\n",
    "    \"Cloud3pm\",\n",
    "    \"Temp9am\",\n",
    "    \"Temp3pm\"\n",
    "]"
   ]
  },
  {
   "cell_type": "code",
   "execution_count": 16,
   "metadata": {},
   "outputs": [],
   "source": [
    "def get_outlier_thresh (x, q1=0.25, q3=0.75) :\n",
    "    quartile1 = x.quantile(q1)\n",
    "    quartile3 = x.quantile(q3)\n",
    "    interquartile_range = quartile3 - quartile1\n",
    "    up_limit = quartile3 + 1.5 * interquartile_range\n",
    "    low_limit = quartile1 - 1.5 * interquartile_range\n",
    "    return (low_limit, up_limit)\n",
    "\n",
    "def cap_outliers(x, limits):\n",
    "    low_limit , up_limit = limits\n",
    "\n",
    "    is_over_limits = x > up_limit\n",
    "    x[is_over_limits] = up_limit\n",
    "\n",
    "    is_under_limits = x < low_limit\n",
    "    x[is_under_limits] = low_limit\n",
    "\n",
    "    return x"
   ]
  },
  {
   "cell_type": "code",
   "execution_count": 17,
   "metadata": {},
   "outputs": [
    {
     "data": {
      "application/vnd.jupyter.widget-view+json": {
       "model_id": "53ff19f0a3ee4d6ea34a0ad64656fb8b",
       "version_major": 2,
       "version_minor": 0
      },
      "text/plain": [
       "  0%|          | 0/16 [00:00<?, ?it/s]"
      ]
     },
     "metadata": {},
     "output_type": "display_data"
    }
   ],
   "source": [
    "feature_outliers_thresh = {}\n",
    "for feature in tqdm(numeric_columns):\n",
    "    limits = get_outlier_thresh(train_set_outliers[feature])\n",
    "    train_set_outliers[feature] = cap_outliers(train_set_outliers[feature], limits)\n",
    "\n",
    "    feature_outliers_thresh[feature] = limits"
   ]
  },
  {
   "cell_type": "code",
   "execution_count": 18,
   "metadata": {},
   "outputs": [
    {
     "data": {
      "image/png": "[encoded data removed]",
      "text/plain": [
       "<Figure size 1200x800 with 16 Axes>"
      ]
     },
     "metadata": {},
     "output_type": "display_data"
    }
   ],
   "source": [
    "plt.rcParams.update({'font.size': 6})\n",
    "train_set_outliers[numeric_columns].hist(bins=50, figsize=(12, 8))\n",
    "plt.subplots_adjust(hspace=0.4, wspace=0.25)\n",
    "plt.show()"
   ]
  },
  {
   "cell_type": "markdown",
   "metadata": {},
   "source": [
    "---"
   ]
  },
  {
   "cell_type": "markdown",
   "metadata": {},
   "source": [
    "#### Missing values imputation"
   ]
  },
  {
   "cell_type": "markdown",
   "metadata": {},
   "source": [
    "Vamos a realizar la imputación de datos faltantes mediante un kn customizado utilizando las observaciones en la misma fecha y en la estación meteorológica con mayor similaridad a un dato faltante."
   ]
  },
  {
   "cell_type": "code",
   "execution_count": 19,
   "metadata": {},
   "outputs": [],
   "source": [
    "train_set_missing = train_set_outliers.copy()\n",
    "\n",
    "index_columns = [\"Date\", \"Location\"]\n",
    "\n",
    "feature_columns = [\n",
    "    \"Lat\",\n",
    "    \"Lon\",\n",
    "    \"DayCos\",\n",
    "    \"DaySin\",\n",
    "    \"MinTemp\",\n",
    "    \"MaxTemp\",\n",
    "    \"RainfallLog\",\n",
    "    \"EvaporationLog\",\n",
    "    \"Sunshine\",\n",
    "    \"WindGustSpeed\",\n",
    "    \"WindSpeed9am\",\n",
    "    \"WindSpeed3pm\",\n",
    "    \"WindGustDirCos\",\n",
    "    \"WindGustDirSin\",\n",
    "    \"WindDir9amCos\",\n",
    "    \"WindDir9amSin\",\n",
    "    \"WindDir3pmCos\",\n",
    "    \"WindDir3pmSin\",\n",
    "    \"Humidity9am\",\n",
    "    \"Humidity3pm\",\n",
    "    \"Pressure9am\",\n",
    "    \"Pressure3pm\",\n",
    "    \"Cloud9am\",\n",
    "    \"Cloud3pm\",\n",
    "    \"Temp9am\",\n",
    "    \"Temp3pm\",\n",
    "    \"RainToday\",\n",
    "]\n",
    "\n",
    "target_column = [\"RainTomorrow\"]"
   ]
  },
  {
   "cell_type": "code",
   "execution_count": 20,
   "metadata": {},
   "outputs": [
    {
     "data": {
      "application/vnd.jupyter.widget-view+json": {
       "model_id": "ba1e37f52b524524adb7310567c6fd88",
       "version_major": 2,
       "version_minor": 0
      },
      "text/plain": [
       "  0%|          | 0/23 [00:00<?, ?it/s]"
      ]
     },
     "metadata": {},
     "output_type": "display_data"
    },
    {
     "data": {
      "application/vnd.jupyter.widget-view+json": {
       "model_id": "b0b67bc51f9346f4b5a32922bc909e78",
       "version_major": 2,
       "version_minor": 0
      },
      "text/plain": [
       "  0%|          | 0/23 [00:00<?, ?it/s]"
      ]
     },
     "metadata": {},
     "output_type": "display_data"
    }
   ],
   "source": [
    "significance_thresh = 0.05\n",
    "corr_thresh = 0.7\n",
    "\n",
    "locations = df[\"Location\"].unique()\n",
    "location_pairs = list(combinations(locations, 2))\n",
    "\n",
    "numeric_feature_columns = [\n",
    "    x\n",
    "    for x in feature_columns\n",
    "    if x not in [\"Lat\", \"Lon\", \"DayCos\", \"DaySin\"]\n",
    "]\n",
    "\n",
    "spatial_correlations = {}\n",
    "for feature in tqdm(numeric_feature_columns):\n",
    "    df_feature = train_set_missing.pivot(\n",
    "        index=\"Date\", columns=\"Location\", values=feature\n",
    "    )\n",
    "\n",
    "    feature_correlations = []\n",
    "    for location_pair in location_pairs:\n",
    "        loc_a, loc_b = location_pair\n",
    "        df_feature_pair = df_feature[[loc_a, loc_b]].dropna().reset_index(drop=True)\n",
    "        if not df_feature_pair.empty:\n",
    "            if feature==\"RainToday\":\n",
    "                cm = pd.crosstab(df_feature_pair[loc_a], df_feature_pair[loc_b])\n",
    "                chi2, pvalue, _, _ = chi2_contingency(cm)\n",
    "                phi = np.sqrt(chi2 / cm.sum().sum())\n",
    "\n",
    "                if (pvalue < significance_thresh) & (corr > corr_thresh):\n",
    "                    pair_correlation = {}\n",
    "                    pair_correlation[\"loc_a\"] = loc_a\n",
    "                    pair_correlation[\"loc_b\"] = loc_b\n",
    "                    pair_correlation[\"corr\"] = phi\n",
    "                    pair_correlation[\"intercept\"] = 0\n",
    "                    pair_correlation[\"slope\"] = 1\n",
    "                    feature_correlations.append(pair_correlation.copy())\n",
    "\n",
    "                    pair_correlation[\"loc_a\"] = loc_b\n",
    "                    pair_correlation[\"loc_b\"] = loc_a\n",
    "                    feature_correlations.append(pair_correlation.copy())\n",
    "\n",
    "            else:\n",
    "                corr, pvalue = pearsonr(df_feature_pair[loc_a], df_feature_pair[loc_b])\n",
    "\n",
    "                if (pvalue < significance_thresh) & (corr > corr_thresh):\n",
    "                    ridge = Ridge(alpha=1.0)\n",
    "                    ridge.fit(\n",
    "                        df_feature_pair[loc_a].values.reshape(-1, 1), df_feature_pair[loc_b]\n",
    "                    )\n",
    "                    intercept = ridge.intercept_\n",
    "                    coeficient = ridge.coef_[0]\n",
    "\n",
    "                    pair_correlation = {}\n",
    "                    pair_correlation[\"loc_a\"] = loc_a\n",
    "                    pair_correlation[\"loc_b\"] = loc_b\n",
    "                    pair_correlation[\"corr\"] = corr\n",
    "                    pair_correlation[\"intercept\"] = intercept\n",
    "                    pair_correlation[\"slope\"] = coeficient\n",
    "                    feature_correlations.append(pair_correlation.copy())\n",
    "\n",
    "                    pair_correlation[\"loc_a\"] = loc_b\n",
    "                    pair_correlation[\"loc_b\"] = loc_a\n",
    "                    pair_correlation[\"intercept\"] = -1 * intercept / coeficient\n",
    "                    pair_correlation[\"slope\"] = 1 / coeficient\n",
    "                    feature_correlations.append(pair_correlation.copy())\n",
    "\n",
    "    if len(feature_correlations) > 0:\n",
    "        df_feature_correlations = pd.DataFrame(feature_correlations)\n",
    "    else:\n",
    "        df_feature_correlations = pd.DataFrame(\n",
    "            None, columns=[\"loc_a\", \"loc_b\", \"corr\", \"intercept\", \"slope\"]\n",
    "        )\n",
    "    spatial_correlations[feature] = df_feature_correlations\n",
    "\n",
    "temporal_correlations = {}\n",
    "for feature in tqdm(numeric_feature_columns):\n",
    "    df_feature = train_set_missing.pivot(\n",
    "        index=\"Date\", columns=\"Location\", values=feature\n",
    "    )\n",
    "\n",
    "    feature_correlations = []\n",
    "    for location in locations:\n",
    "        df_feature_location = df_feature[[location]]\n",
    "        df_feature_location[f\"{location}Before\"] = df_feature_location[location].shift(\n",
    "            1\n",
    "        )\n",
    "\n",
    "        df_feature_location = df_feature_location.reset_index()\n",
    "        filt = (\n",
    "            df_feature_location[\"Date\"] - df_feature_location[\"Date\"].shift(1)\n",
    "        ) == pd.Timedelta(\"1 day\")\n",
    "        df_feature_location = (\n",
    "            df_feature_location.loc[filt, :].dropna().reset_index(drop=True)\n",
    "        )\n",
    "\n",
    "        if not df_feature_location.empty:\n",
    "            corr, pvalue = pearsonr(\n",
    "                df_feature_location[location], df_feature_location[f\"{location}Before\"]\n",
    "            )\n",
    "\n",
    "            if (pvalue < significance_thresh) & (corr > corr_thresh):\n",
    "                location_correlation = {}\n",
    "                location_correlation[\"loc\"] = location\n",
    "                location_correlation[\"corr\"] = corr\n",
    "                location_correlation[\"intercept\"] = 0\n",
    "                location_correlation[\"slope\"] = 1\n",
    "                feature_correlations.append(location_correlation.copy())\n",
    "\n",
    "    if len(feature_correlations) > 0:\n",
    "        df_feature_correlations = pd.DataFrame(feature_correlations)\n",
    "    else:\n",
    "        df_feature_correlations = pd.DataFrame(\n",
    "            None, columns=[\"loc\", \"corr\", \"intercept\", \"slope\"]\n",
    "        )\n",
    "    temporal_correlations[feature] = df_feature_correlations"
   ]
  },
  {
   "cell_type": "code",
   "execution_count": 21,
   "metadata": {},
   "outputs": [],
   "source": [
    "def impute_missing(\n",
    "    df, date, location, feature, spatial_correlations, temporal_correlations, k=3\n",
    "):\n",
    "    filt = spatial_correlations[\"loc_b\"] == location\n",
    "    spatial_correlations = spatial_correlations.loc[filt, :]\n",
    "    filt = (\n",
    "        (df[\"Date\"] == date)\n",
    "        & (df[\"Location\"].isin(spatial_correlations[\"loc_a\"]))\n",
    "        & (~df[feature].isna())\n",
    "    )\n",
    "    df_nearests_spatial = df.loc[filt, :]\n",
    "\n",
    "    filt = temporal_correlations[\"loc\"] == location\n",
    "    temporal_correlations = temporal_correlations.loc[filt, :]\n",
    "    filt = (\n",
    "        (\n",
    "            (df[\"Date\"] == date - pd.Timedelta(\"1 day\"))\n",
    "            | (df[\"Date\"] == date + pd.Timedelta(\"1 day\"))\n",
    "        )\n",
    "        & (df[\"Location\"].isin(temporal_correlations[\"loc\"]))\n",
    "        & (~df[feature].isna())\n",
    "    )\n",
    "    df_nearests_temporal = df.loc[filt, :]\n",
    "\n",
    "    if df_nearests_spatial.shape[0] + df_nearests_temporal.shape[0] == 0:\n",
    "        return np.nan\n",
    "\n",
    "    df_nearests_spatial = pd.merge(\n",
    "        df_nearests_spatial[[\"Date\", \"Location\", feature]],\n",
    "        spatial_correlations[[\"loc_a\", \"corr\", \"intercept\", \"slope\"]],\n",
    "        how=\"left\",\n",
    "        left_on=\"Location\",\n",
    "        right_on=\"loc_a\",\n",
    "    )\n",
    "\n",
    "    df_nearests_temporal = pd.merge(\n",
    "        df_nearests_temporal[[\"Date\", \"Location\", feature]],\n",
    "        temporal_correlations[[\"loc\", \"corr\", \"intercept\", \"slope\"]],\n",
    "        how=\"left\",\n",
    "        left_on=\"Location\",\n",
    "        right_on=\"loc\",\n",
    "    )\n",
    "\n",
    "    df_nearests = (\n",
    "        pd.concat([df_nearests_spatial, df_nearests_temporal])\n",
    "        .sort_values(by=\"corr\", ascending=False)\n",
    "        .reset_index(drop=True)\n",
    "        .head(k)\n",
    "    )\n",
    "\n",
    "    df_nearests[\"y\"] = (\n",
    "        df_nearests[feature] * df_nearests[\"slope\"] + df_nearests[\"intercept\"]\n",
    "    )\n",
    "\n",
    "    imputed = (df_nearests[\"y\"] * (df_nearests[\"corr\"] ** 2)).sum() / (\n",
    "        df_nearests[\"corr\"] ** 2\n",
    "    ).sum()\n",
    "\n",
    "    min_value = df[feature].min()\n",
    "    max_value = df[feature].max()\n",
    "\n",
    "    imputed = imputed if imputed > min_value else min_value\n",
    "    imputed = imputed if imputed < max_value else max_value\n",
    "\n",
    "    return imputed"
   ]
  },
  {
   "cell_type": "code",
   "execution_count": 22,
   "metadata": {},
   "outputs": [
    {
     "data": {
      "application/vnd.jupyter.widget-view+json": {
       "model_id": "2f027e7f940644a79fb855471f03f24d",
       "version_major": 2,
       "version_minor": 0
      },
      "text/plain": [
       "  0%|          | 0/23 [00:00<?, ?it/s]"
      ]
     },
     "metadata": {},
     "output_type": "display_data"
    }
   ],
   "source": [
    "for feature in tqdm(numeric_feature_columns):\n",
    "    spatial_correlation_locations = (\n",
    "        spatial_correlations[feature][\"loc_b\"].unique().tolist()\n",
    "    )\n",
    "    temporal_correlation_locations = (\n",
    "        temporal_correlations[feature][\"loc\"].unique().tolist()\n",
    "    )\n",
    "    correlation_locations = set(\n",
    "        spatial_correlation_locations + temporal_correlation_locations\n",
    "    )\n",
    "\n",
    "    filt = (train_set_missing[feature].isna()) & (\n",
    "        train_set_missing[\"Location\"].isin(correlation_locations)\n",
    "    )\n",
    "    train_set_missing.loc[filt, feature] = train_set_missing.loc[filt, :].apply(\n",
    "        lambda x: impute_missing(\n",
    "            df=train_set_missing,\n",
    "            date=x[\"Date\"],\n",
    "            location=x[\"Location\"],\n",
    "            feature=feature,\n",
    "            spatial_correlations=spatial_correlations[feature],\n",
    "            temporal_correlations=temporal_correlations[feature],\n",
    "            k=3,\n",
    "        ),\n",
    "        axis=1,\n",
    "    )"
   ]
  },
  {
   "cell_type": "code",
   "execution_count": 23,
   "metadata": {},
   "outputs": [
    {
     "data": {
      "application/vnd.jupyter.widget-view+json": {
       "model_id": "64191f046a7d4514bc10bd5baeace1f6",
       "version_major": 2,
       "version_minor": 0
      },
      "text/plain": [
       "  0%|          | 0/3 [00:00<?, ?it/s]"
      ]
     },
     "metadata": {},
     "output_type": "display_data"
    }
   ],
   "source": [
    "angle_feature_columns = [\n",
    "    (\"WindGustDirCos\", \"WindGustDirSin\"),\n",
    "    (\"WindDir9amCos\", \"WindDir9amSin\"),\n",
    "    (\"WindDir3pmCos\", \"WindDir3pmSin\"),\n",
    "]\n",
    "\n",
    "for angle_feature_cos, angle_feature_sin in tqdm(angle_feature_columns):\n",
    "    magnitude = np.sqrt(train_set_missing[angle_feature_cos]**2 + train_set_missing[angle_feature_sin]**2)\n",
    "    train_set_missing[angle_feature_cos] = train_set_missing[angle_feature_cos] / magnitude\n",
    "    train_set_missing[angle_feature_sin] = train_set_missing[angle_feature_sin] / magnitude"
   ]
  },
  {
   "cell_type": "code",
   "execution_count": 24,
   "metadata": {},
   "outputs": [],
   "source": [
    "train_set_missing[\"RainToday\"] = train_set_missing[\"RainToday\"].round(0)"
   ]
  },
  {
   "cell_type": "code",
   "execution_count": 25,
   "metadata": {},
   "outputs": [
    {
     "name": "stdout",
     "output_type": "stream",
     "text": [
      "Proporción de datos faltantes imputados por técnica de cercanía física y temporal: 0.09\n"
     ]
    }
   ],
   "source": [
    "prop_imputed = round(1-(train_set_missing.isna().sum().sum() / train_set_outliers.isna().sum().sum()), 3)\n",
    "print(f\"Proporción de datos faltantes imputados por técnica de cercanía física y temporal: {prop_imputed}\")"
   ]
  },
  {
   "cell_type": "markdown",
   "metadata": {},
   "source": [
    "Vamos a imputar los datos aún faltantes utilizando el algoritmo MICE."
   ]
  },
  {
   "cell_type": "code",
   "execution_count": 26,
   "metadata": {},
   "outputs": [],
   "source": [
    "missing_scaler = StandardScaler()\n",
    "X_missing_scaled = missing_scaler.fit_transform(train_set_missing[numeric_feature_columns])"
   ]
  },
  {
   "cell_type": "code",
   "execution_count": 27,
   "metadata": {},
   "outputs": [],
   "source": [
    "min_values = np.array(\n",
    "    [train_set_missing[column].min() for column in numeric_feature_columns]\n",
    ")\n",
    "max_values = np.array(\n",
    "    [train_set_missing[column].max() for column in numeric_feature_columns]\n",
    ")\n",
    "\n",
    "iterative_imputer = IterativeImputer(\n",
    "    initial_strategy=\"median\",\n",
    "    max_iter=50,\n",
    "    n_nearest_features=8,\n",
    "    min_value=min_values,\n",
    "    max_value=max_values,\n",
    "    random_state=random_seed,\n",
    "    keep_empty_features=True,\n",
    ")\n",
    "X_imputed_scaled = iterative_imputer.fit_transform(\n",
    "    X_missing_scaled,\n",
    ")"
   ]
  },
  {
   "cell_type": "code",
   "execution_count": 28,
   "metadata": {},
   "outputs": [],
   "source": [
    "X_imputed = missing_scaler.inverse_transform(X_imputed_scaled)\n",
    "train_set_missing[numeric_feature_columns] = X_imputed"
   ]
  },
  {
   "cell_type": "code",
   "execution_count": 29,
   "metadata": {},
   "outputs": [
    {
     "data": {
      "application/vnd.jupyter.widget-view+json": {
       "model_id": "47ef1a4024d34428872a21846db87bc2",
       "version_major": 2,
       "version_minor": 0
      },
      "text/plain": [
       "  0%|          | 0/3 [00:00<?, ?it/s]"
      ]
     },
     "metadata": {},
     "output_type": "display_data"
    }
   ],
   "source": [
    "angle_feature_columns = [\n",
    "    (\"WindGustDirCos\", \"WindGustDirSin\"),\n",
    "    (\"WindDir9amCos\", \"WindDir9amSin\"),\n",
    "    (\"WindDir3pmCos\", \"WindDir3pmSin\"),\n",
    "]\n",
    "\n",
    "for angle_feature_cos, angle_feature_sin in tqdm(angle_feature_columns):\n",
    "    magnitude = np.sqrt(train_set_missing[angle_feature_cos]**2 + train_set_missing[angle_feature_sin]**2)\n",
    "    train_set_missing[angle_feature_cos] = train_set_missing[angle_feature_cos] / magnitude\n",
    "    train_set_missing[angle_feature_sin] = train_set_missing[angle_feature_sin] / magnitude"
   ]
  },
  {
   "cell_type": "code",
   "execution_count": 30,
   "metadata": {},
   "outputs": [],
   "source": [
    "train_set_missing[\"RainToday\"] = train_set_missing[\"RainToday\"].round(0)"
   ]
  },
  {
   "cell_type": "markdown",
   "metadata": {},
   "source": [
    "---"
   ]
  },
  {
   "cell_type": "markdown",
   "metadata": {},
   "source": [
    "#### Features selection"
   ]
  },
  {
   "cell_type": "code",
   "execution_count": 125,
   "metadata": {},
   "outputs": [],
   "source": [
    "X_train = train_set_missing[feature_columns]\n",
    "y_train = train_set_missing[target_column[0]]"
   ]
  },
  {
   "cell_type": "code",
   "execution_count": 36,
   "metadata": {},
   "outputs": [
    {
     "name": "stdout",
     "output_type": "stream",
     "text": [
      "                Feature Importance\n",
      "Humidity3pm               0.175844\n",
      "Sunshine                  0.057786\n",
      "Pressure3pm               0.056015\n",
      "RainfallLog               0.049270\n",
      "Pressure9am               0.048025\n",
      "WindGustSpeed             0.047653\n",
      "Cloud3pm                  0.044064\n",
      "Humidity9am               0.043200\n",
      "Temp3pm                   0.036988\n",
      "DayCos                    0.035196\n",
      "MinTemp                   0.035059\n",
      "DaySin                    0.034785\n",
      "MaxTemp                   0.033223\n",
      "Temp9am                   0.032150\n",
      "Lon                       0.028724\n",
      "WindSpeed3pm              0.024606\n",
      "Lat                       0.023361\n",
      "RainToday                 0.022271\n",
      "WindSpeed9am              0.022210\n",
      "EvaporationLog            0.022185\n",
      "Cloud9am                  0.020991\n",
      "WindDir3pmSin             0.020174\n",
      "WindDir9amSin             0.018993\n",
      "WindGustDirSin            0.018011\n",
      "WindGustDirCos            0.016529\n",
      "WindDir9amCos             0.016469\n",
      "WindDir3pmCos             0.016218\n"
     ]
    }
   ],
   "source": [
    "rf_importance = RandomForestClassifier(random_state=42)\n",
    "rf_importance.fit(X, y)\n",
    "\n",
    "feature_importances = rf_importance.feature_importances_\n",
    "rf_feature_importances = pd.DataFrame(feature_importances, index=X.columns, columns=['Feature Importance'])\n",
    "\n",
    "print(rf_feature_importances.sort_values(by='Feature Importance', ascending=False))"
   ]
  },
  {
   "cell_type": "markdown",
   "metadata": {},
   "source": [
    "---"
   ]
  },
  {
   "cell_type": "markdown",
   "metadata": {},
   "source": [
    "#### Prepare test set"
   ]
  },
  {
   "cell_type": "code",
   "execution_count": 37,
   "metadata": {},
   "outputs": [],
   "source": [
    "test_set_skew = test_set.copy()\n",
    "\n",
    "right_skewed_columns = [\"Rainfall\", \"Evaporation\"]\n",
    "for column in right_skewed_columns:\n",
    "    test_set_skew[f\"{column}Log\"] = np.log(test_set_skew[column]+1)"
   ]
  },
  {
   "cell_type": "code",
   "execution_count": 38,
   "metadata": {},
   "outputs": [
    {
     "data": {
      "application/vnd.jupyter.widget-view+json": {
       "model_id": "7677ab127dfc40bd937e48458ee7901d",
       "version_major": 2,
       "version_minor": 0
      },
      "text/plain": [
       "  0%|          | 0/16 [00:00<?, ?it/s]"
      ]
     },
     "metadata": {},
     "output_type": "display_data"
    }
   ],
   "source": [
    "test_set_outliers = test_set_skew.copy()\n",
    "\n",
    "for feature in tqdm(numeric_columns):\n",
    "    test_set_outliers[feature] = cap_outliers(\n",
    "        test_set_outliers[feature], feature_outliers_thresh[feature]\n",
    "    )"
   ]
  },
  {
   "cell_type": "code",
   "execution_count": 39,
   "metadata": {},
   "outputs": [
    {
     "data": {
      "application/vnd.jupyter.widget-view+json": {
       "model_id": "613f3455426f4a9ca3cc46989fdbc248",
       "version_major": 2,
       "version_minor": 0
      },
      "text/plain": [
       "  0%|          | 0/23 [00:00<?, ?it/s]"
      ]
     },
     "metadata": {},
     "output_type": "display_data"
    }
   ],
   "source": [
    "test_set_missing = test_set_outliers.copy()\n",
    "\n",
    "for feature in tqdm(numeric_feature_columns):\n",
    "    spatial_correlation_locations = (\n",
    "        spatial_correlations[feature][\"loc_b\"].unique().tolist()\n",
    "    )\n",
    "    temporal_correlation_locations = (\n",
    "        temporal_correlations[feature][\"loc\"].unique().tolist()\n",
    "    )\n",
    "    correlation_locations = set(\n",
    "        spatial_correlation_locations + temporal_correlation_locations\n",
    "    )\n",
    "\n",
    "    filt = (test_set_missing[feature].isna()) & (\n",
    "        test_set_missing[\"Location\"].isin(correlation_locations)\n",
    "    )\n",
    "    test_set_missing.loc[filt, feature] = test_set_missing.loc[filt, :].apply(\n",
    "        lambda x: impute_missing(\n",
    "            df=test_set_missing,\n",
    "            date=x[\"Date\"],\n",
    "            location=x[\"Location\"],\n",
    "            feature=feature,\n",
    "            spatial_correlations=spatial_correlations[feature],\n",
    "            temporal_correlations=temporal_correlations[feature],\n",
    "            k=3,\n",
    "        ),\n",
    "        axis=1,\n",
    "    )"
   ]
  },
  {
   "cell_type": "code",
   "execution_count": 40,
   "metadata": {},
   "outputs": [],
   "source": [
    "angle_feature_columns = [\n",
    "    (\"WindGustDirCos\", \"WindGustDirSin\"),\n",
    "    (\"WindDir9amCos\", \"WindDir9amSin\"),\n",
    "    (\"WindDir3pmCos\", \"WindDir3pmSin\"),\n",
    "]\n",
    "\n",
    "for angle_feature_cos, angle_feature_sin in angle_feature_columns:\n",
    "    magnitude = np.sqrt(test_set_missing[angle_feature_cos]**2 + test_set_missing[angle_feature_sin]**2)\n",
    "    test_set_missing[angle_feature_cos] = test_set_missing[angle_feature_cos] / magnitude\n",
    "    test_set_missing[angle_feature_sin] = test_set_missing[angle_feature_sin] / magnitude\n",
    "\n",
    "test_set_missing[\"RainToday\"] = test_set_missing[\"RainToday\"].round(0)"
   ]
  },
  {
   "cell_type": "code",
   "execution_count": 41,
   "metadata": {},
   "outputs": [],
   "source": [
    "X_missing_scaled = missing_scaler.transform(test_set_missing[numeric_feature_columns])\n",
    "\n",
    "X_imputed_scaled = iterative_imputer.transform(\n",
    "    X_missing_scaled,\n",
    ")\n",
    "\n",
    "X_imputed = missing_scaler.inverse_transform(X_imputed_scaled)\n",
    "test_set_missing[numeric_feature_columns] = X_imputed"
   ]
  },
  {
   "cell_type": "code",
   "execution_count": 42,
   "metadata": {},
   "outputs": [],
   "source": [
    "angle_feature_columns = [\n",
    "    (\"WindGustDirCos\", \"WindGustDirSin\"),\n",
    "    (\"WindDir9amCos\", \"WindDir9amSin\"),\n",
    "    (\"WindDir3pmCos\", \"WindDir3pmSin\"),\n",
    "]\n",
    "\n",
    "for angle_feature_cos, angle_feature_sin in angle_feature_columns:\n",
    "    magnitude = np.sqrt(train_set_missing[angle_feature_cos]**2 + train_set_missing[angle_feature_sin]**2)\n",
    "    train_set_missing[angle_feature_cos] = train_set_missing[angle_feature_cos] / magnitude\n",
    "    train_set_missing[angle_feature_sin] = train_set_missing[angle_feature_sin] / magnitude\n",
    "\n",
    "train_set_missing[\"RainToday\"] = train_set_missing[\"RainToday\"].round(0)"
   ]
  },
  {
   "cell_type": "code",
   "execution_count": 43,
   "metadata": {},
   "outputs": [],
   "source": [
    "X_test = test_set_missing[feature_columns]\n",
    "y_test = test_set_missing[target_column]"
   ]
  },
  {
   "cell_type": "markdown",
   "metadata": {},
   "source": [
    "---"
   ]
  },
  {
   "cell_type": "markdown",
   "metadata": {},
   "source": [
    "#### Target class balancing"
   ]
  },
  {
   "cell_type": "code",
   "execution_count": 126,
   "metadata": {},
   "outputs": [],
   "source": [
    "smote = SMOTE()\n",
    "X_train_resampled, y_train_resampled = smote.fit_resample(X, y)"
   ]
  },
  {
   "cell_type": "markdown",
   "metadata": {},
   "source": [
    "---"
   ]
  },
  {
   "cell_type": "markdown",
   "metadata": {},
   "source": [
    "#### Model training"
   ]
  },
  {
   "cell_type": "code",
   "execution_count": 136,
   "metadata": {},
   "outputs": [],
   "source": [
    "def get_set_sample(X, y, prop):\n",
    "    \"\"\"\n",
    "    Returns a subsample of the training set for expensive models\n",
    "    \"\"\"\n",
    "    shuffled_indices = np.random.permutation(len(y))\n",
    "    training_n = int(len(y) * prop)\n",
    "    training_indices = shuffled_indices[:training_n]\n",
    "\n",
    "    return X[training_indices], y[training_indices]\n",
    "\n",
    "\n",
    "def evaluate_predictions(y_true, y_pred, figsize=(3, 3)):\n",
    "    # Generate confusion matrix\n",
    "    cm = confusion_matrix(y_true, y_pred)\n",
    "\n",
    "    # Mapping of labels\n",
    "    labels = [\"No\", \"Yes\"]\n",
    "\n",
    "    # Plot confusion matrix\n",
    "    plt.figure(figsize=figsize)\n",
    "    sns.heatmap(\n",
    "        cm,\n",
    "        annot=True,\n",
    "        fmt=\"d\",\n",
    "        cmap=\"Greens\",\n",
    "        xticklabels=labels,\n",
    "        yticklabels=labels,\n",
    "        cbar=False,\n",
    "    )\n",
    "    plt.xlabel(\"Predicted Values\")\n",
    "    plt.ylabel(\"Real Values\")\n",
    "    plt.title(\"Confusion Matrix\")\n",
    "    plt.show()\n",
    "\n",
    "    # Calculate evaluation metrics\n",
    "    precision = precision_score(y_true, y_pred)\n",
    "    recall = recall_score(y_true, y_pred)\n",
    "    f1 = f1_score(y_true, y_pred)\n",
    "    accuracy = accuracy_score(y_true, y_pred)\n",
    "\n",
    "    # Print evaluation metrics\n",
    "    print(f\"Accuracy: {accuracy:.3f}\")\n",
    "    print(f\"Precision: {precision:.3f}\")\n",
    "    print(f\"Recall: {recall:.3f}\")\n",
    "    print(f\"F1 Score: {f1:.3f}\")"
   ]
  },
  {
   "cell_type": "markdown",
   "metadata": {},
   "source": [
    "Baseline model: Stochastic Gradient Descent Classifier with default parameters"
   ]
  },
  {
   "cell_type": "code",
   "execution_count": 138,
   "metadata": {},
   "outputs": [],
   "source": [
    "sgd_clf = make_pipeline(StandardScaler(), SGDClassifier(random_state=random_seed))\n",
    "sgd_clf.fit(X_train_resampled, y_train_resampled)\n",
    "\n",
    "y_test_pred = sgd_clf.predict(X_test)"
   ]
  },
  {
   "cell_type": "code",
   "execution_count": 139,
   "metadata": {},
   "outputs": [
    {
     "data": {
      "image/png": "[encoded data removed]",
      "text/plain": [
       "<Figure size 300x300 with 1 Axes>"
      ]
     },
     "metadata": {},
     "output_type": "display_data"
    },
    {
     "name": "stdout",
     "output_type": "stream",
     "text": [
      "Accuracy: 0.784\n",
      "Precision: 0.506\n",
      "Recall: 0.785\n",
      "F1 Score: 0.616\n"
     ]
    }
   ],
   "source": [
    "evaluate_predictions(y_test, y_test_pred)"
   ]
  },
  {
   "cell_type": "markdown",
   "metadata": {},
   "source": [
    "---"
   ]
  },
  {
   "cell_type": "code",
   "execution_count": 141,
   "metadata": {},
   "outputs": [],
   "source": [
    "from sklearn.ensemble import GradientBoostingClassifier"
   ]
  },
  {
   "cell_type": "code",
   "execution_count": null,
   "metadata": {},
   "outputs": [],
   "source": [
    "from sklearn.model_selection import RandomizedSearchCV"
   ]
  },
  {
   "cell_type": "code",
   "execution_count": 150,
   "metadata": {},
   "outputs": [
    {
     "data": {
      "text/html": [
       "<style>#sk-container-id-16 {\n",
       "  /* Definition of color scheme common for light and dark mode */\n",
       "  --sklearn-color-text: black;\n",
       "  --sklearn-color-line: gray;\n",
       "  /* Definition of color scheme for unfitted estimators */\n",
       "  --sklearn-color-unfitted-level-0: #fff5e6;\n",
       "  --sklearn-color-unfitted-level-1: #f6e4d2;\n",
       "  --sklearn-color-unfitted-level-2: #ffe0b3;\n",
       "  --sklearn-color-unfitted-level-3: chocolate;\n",
       "  /* Definition of color scheme for fitted estimators */\n",
       "  --sklearn-color-fitted-level-0: #f0f8ff;\n",
       "  --sklearn-color-fitted-level-1: #d4ebff;\n",
       "  --sklearn-color-fitted-level-2: #b3dbfd;\n",
       "  --sklearn-color-fitted-level-3: cornflowerblue;\n",
       "\n",
       "  /* Specific color for light theme */\n",
       "  --sklearn-color-text-on-default-background: var(--sg-text-color, var(--theme-code-foreground, var(--jp-content-font-color1, black)));\n",
       "  --sklearn-color-background: var(--sg-background-color, var(--theme-background, var(--jp-layout-color0, white)));\n",
       "  --sklearn-color-border-box: var(--sg-text-color, var(--theme-code-foreground, var(--jp-content-font-color1, black)));\n",
       "  --sklearn-color-icon: #696969;\n",
       "\n",
       "  @media (prefers-color-scheme: dark) {\n",
       "    /* Redefinition of color scheme for dark theme */\n",
       "    --sklearn-color-text-on-default-background: var(--sg-text-color, var(--theme-code-foreground, var(--jp-content-font-color1, white)));\n",
       "    --sklearn-color-background: var(--sg-background-color, var(--theme-background, var(--jp-layout-color0, #111)));\n",
       "    --sklearn-color-border-box: var(--sg-text-color, var(--theme-code-foreground, var(--jp-content-font-color1, white)));\n",
       "    --sklearn-color-icon: #878787;\n",
       "  }\n",
       "}\n",
       "\n",
       "#sk-container-id-16 {\n",
       "  color: var(--sklearn-color-text);\n",
       "}\n",
       "\n",
       "#sk-container-id-16 pre {\n",
       "  padding: 0;\n",
       "}\n",
       "\n",
       "#sk-container-id-16 input.sk-hidden--visually {\n",
       "  border: 0;\n",
       "  clip: rect(1px 1px 1px 1px);\n",
       "  clip: rect(1px, 1px, 1px, 1px);\n",
       "  height: 1px;\n",
       "  margin: -1px;\n",
       "  overflow: hidden;\n",
       "  padding: 0;\n",
       "  position: absolute;\n",
       "  width: 1px;\n",
       "}\n",
       "\n",
       "#sk-container-id-16 div.sk-dashed-wrapped {\n",
       "  border: 1px dashed var(--sklearn-color-line);\n",
       "  margin: 0 0.4em 0.5em 0.4em;\n",
       "  box-sizing: border-box;\n",
       "  padding-bottom: 0.4em;\n",
       "  background-color: var(--sklearn-color-background);\n",
       "}\n",
       "\n",
       "#sk-container-id-16 div.sk-container {\n",
       "  /* jupyter's `normalize.less` sets `[hidden] { display: none; }`\n",
       "     but bootstrap.min.css set `[hidden] { display: none !important; }`\n",
       "     so we also need the `!important` here to be able to override the\n",
       "     default hidden behavior on the sphinx rendered scikit-learn.org.\n",
       "     See: https://github.com/scikit-learn/scikit-learn/issues/21755 */\n",
       "  display: inline-block !important;\n",
       "  position: relative;\n",
       "}\n",
       "\n",
       "#sk-container-id-16 div.sk-text-repr-fallback {\n",
       "  display: none;\n",
       "}\n",
       "\n",
       "div.sk-parallel-item,\n",
       "div.sk-serial,\n",
       "div.sk-item {\n",
       "  /* draw centered vertical line to link estimators */\n",
       "  background-image: linear-gradient(var(--sklearn-color-text-on-default-background), var(--sklearn-color-text-on-default-background));\n",
       "  background-size: 2px 100%;\n",
       "  background-repeat: no-repeat;\n",
       "  background-position: center center;\n",
       "}\n",
       "\n",
       "/* Parallel-specific style estimator block */\n",
       "\n",
       "#sk-container-id-16 div.sk-parallel-item::after {\n",
       "  content: \"\";\n",
       "  width: 100%;\n",
       "  border-bottom: 2px solid var(--sklearn-color-text-on-default-background);\n",
       "  flex-grow: 1;\n",
       "}\n",
       "\n",
       "#sk-container-id-16 div.sk-parallel {\n",
       "  display: flex;\n",
       "  align-items: stretch;\n",
       "  justify-content: center;\n",
       "  background-color: var(--sklearn-color-background);\n",
       "  position: relative;\n",
       "}\n",
       "\n",
       "#sk-container-id-16 div.sk-parallel-item {\n",
       "  display: flex;\n",
       "  flex-direction: column;\n",
       "}\n",
       "\n",
       "#sk-container-id-16 div.sk-parallel-item:first-child::after {\n",
       "  align-self: flex-end;\n",
       "  width: 50%;\n",
       "}\n",
       "\n",
       "#sk-container-id-16 div.sk-parallel-item:last-child::after {\n",
       "  align-self: flex-start;\n",
       "  width: 50%;\n",
       "}\n",
       "\n",
       "#sk-container-id-16 div.sk-parallel-item:only-child::after {\n",
       "  width: 0;\n",
       "}\n",
       "\n",
       "/* Serial-specific style estimator block */\n",
       "\n",
       "#sk-container-id-16 div.sk-serial {\n",
       "  display: flex;\n",
       "  flex-direction: column;\n",
       "  align-items: center;\n",
       "  background-color: var(--sklearn-color-background);\n",
       "  padding-right: 1em;\n",
       "  padding-left: 1em;\n",
       "}\n",
       "\n",
       "\n",
       "/* Toggleable style: style used for estimator/Pipeline/ColumnTransformer box that is\n",
       "clickable and can be expanded/collapsed.\n",
       "- Pipeline and ColumnTransformer use this feature and define the default style\n",
       "- Estimators will overwrite some part of the style using the `sk-estimator` class\n",
       "*/\n",
       "\n",
       "/* Pipeline and ColumnTransformer style (default) */\n",
       "\n",
       "#sk-container-id-16 div.sk-toggleable {\n",
       "  /* Default theme specific background. It is overwritten whether we have a\n",
       "  specific estimator or a Pipeline/ColumnTransformer */\n",
       "  background-color: var(--sklearn-color-background);\n",
       "}\n",
       "\n",
       "/* Toggleable label */\n",
       "#sk-container-id-16 label.sk-toggleable__label {\n",
       "  cursor: pointer;\n",
       "  display: block;\n",
       "  width: 100%;\n",
       "  margin-bottom: 0;\n",
       "  padding: 0.5em;\n",
       "  box-sizing: border-box;\n",
       "  text-align: center;\n",
       "}\n",
       "\n",
       "#sk-container-id-16 label.sk-toggleable__label-arrow:before {\n",
       "  /* Arrow on the left of the label */\n",
       "  content: \"▸\";\n",
       "  float: left;\n",
       "  margin-right: 0.25em;\n",
       "  color: var(--sklearn-color-icon);\n",
       "}\n",
       "\n",
       "#sk-container-id-16 label.sk-toggleable__label-arrow:hover:before {\n",
       "  color: var(--sklearn-color-text);\n",
       "}\n",
       "\n",
       "/* Toggleable content - dropdown */\n",
       "\n",
       "#sk-container-id-16 div.sk-toggleable__content {\n",
       "  max-height: 0;\n",
       "  max-width: 0;\n",
       "  overflow: hidden;\n",
       "  text-align: left;\n",
       "  /* unfitted */\n",
       "  background-color: var(--sklearn-color-unfitted-level-0);\n",
       "}\n",
       "\n",
       "#sk-container-id-16 div.sk-toggleable__content.fitted {\n",
       "  /* fitted */\n",
       "  background-color: var(--sklearn-color-fitted-level-0);\n",
       "}\n",
       "\n",
       "#sk-container-id-16 div.sk-toggleable__content pre {\n",
       "  margin: 0.2em;\n",
       "  border-radius: 0.25em;\n",
       "  color: var(--sklearn-color-text);\n",
       "  /* unfitted */\n",
       "  background-color: var(--sklearn-color-unfitted-level-0);\n",
       "}\n",
       "\n",
       "#sk-container-id-16 div.sk-toggleable__content.fitted pre {\n",
       "  /* unfitted */\n",
       "  background-color: var(--sklearn-color-fitted-level-0);\n",
       "}\n",
       "\n",
       "#sk-container-id-16 input.sk-toggleable__control:checked~div.sk-toggleable__content {\n",
       "  /* Expand drop-down */\n",
       "  max-height: 200px;\n",
       "  max-width: 100%;\n",
       "  overflow: auto;\n",
       "}\n",
       "\n",
       "#sk-container-id-16 input.sk-toggleable__control:checked~label.sk-toggleable__label-arrow:before {\n",
       "  content: \"▾\";\n",
       "}\n",
       "\n",
       "/* Pipeline/ColumnTransformer-specific style */\n",
       "\n",
       "#sk-container-id-16 div.sk-label input.sk-toggleable__control:checked~label.sk-toggleable__label {\n",
       "  color: var(--sklearn-color-text);\n",
       "  background-color: var(--sklearn-color-unfitted-level-2);\n",
       "}\n",
       "\n",
       "#sk-container-id-16 div.sk-label.fitted input.sk-toggleable__control:checked~label.sk-toggleable__label {\n",
       "  background-color: var(--sklearn-color-fitted-level-2);\n",
       "}\n",
       "\n",
       "/* Estimator-specific style */\n",
       "\n",
       "/* Colorize estimator box */\n",
       "#sk-container-id-16 div.sk-estimator input.sk-toggleable__control:checked~label.sk-toggleable__label {\n",
       "  /* unfitted */\n",
       "  background-color: var(--sklearn-color-unfitted-level-2);\n",
       "}\n",
       "\n",
       "#sk-container-id-16 div.sk-estimator.fitted input.sk-toggleable__control:checked~label.sk-toggleable__label {\n",
       "  /* fitted */\n",
       "  background-color: var(--sklearn-color-fitted-level-2);\n",
       "}\n",
       "\n",
       "#sk-container-id-16 div.sk-label label.sk-toggleable__label,\n",
       "#sk-container-id-16 div.sk-label label {\n",
       "  /* The background is the default theme color */\n",
       "  color: var(--sklearn-color-text-on-default-background);\n",
       "}\n",
       "\n",
       "/* On hover, darken the color of the background */\n",
       "#sk-container-id-16 div.sk-label:hover label.sk-toggleable__label {\n",
       "  color: var(--sklearn-color-text);\n",
       "  background-color: var(--sklearn-color-unfitted-level-2);\n",
       "}\n",
       "\n",
       "/* Label box, darken color on hover, fitted */\n",
       "#sk-container-id-16 div.sk-label.fitted:hover label.sk-toggleable__label.fitted {\n",
       "  color: var(--sklearn-color-text);\n",
       "  background-color: var(--sklearn-color-fitted-level-2);\n",
       "}\n",
       "\n",
       "/* Estimator label */\n",
       "\n",
       "#sk-container-id-16 div.sk-label label {\n",
       "  font-family: monospace;\n",
       "  font-weight: bold;\n",
       "  display: inline-block;\n",
       "  line-height: 1.2em;\n",
       "}\n",
       "\n",
       "#sk-container-id-16 div.sk-label-container {\n",
       "  text-align: center;\n",
       "}\n",
       "\n",
       "/* Estimator-specific */\n",
       "#sk-container-id-16 div.sk-estimator {\n",
       "  font-family: monospace;\n",
       "  border: 1px dotted var(--sklearn-color-border-box);\n",
       "  border-radius: 0.25em;\n",
       "  box-sizing: border-box;\n",
       "  margin-bottom: 0.5em;\n",
       "  /* unfitted */\n",
       "  background-color: var(--sklearn-color-unfitted-level-0);\n",
       "}\n",
       "\n",
       "#sk-container-id-16 div.sk-estimator.fitted {\n",
       "  /* fitted */\n",
       "  background-color: var(--sklearn-color-fitted-level-0);\n",
       "}\n",
       "\n",
       "/* on hover */\n",
       "#sk-container-id-16 div.sk-estimator:hover {\n",
       "  /* unfitted */\n",
       "  background-color: var(--sklearn-color-unfitted-level-2);\n",
       "}\n",
       "\n",
       "#sk-container-id-16 div.sk-estimator.fitted:hover {\n",
       "  /* fitted */\n",
       "  background-color: var(--sklearn-color-fitted-level-2);\n",
       "}\n",
       "\n",
       "/* Specification for estimator info (e.g. \"i\" and \"?\") */\n",
       "\n",
       "/* Common style for \"i\" and \"?\" */\n",
       "\n",
       ".sk-estimator-doc-link,\n",
       "a:link.sk-estimator-doc-link,\n",
       "a:visited.sk-estimator-doc-link {\n",
       "  float: right;\n",
       "  font-size: smaller;\n",
       "  line-height: 1em;\n",
       "  font-family: monospace;\n",
       "  background-color: var(--sklearn-color-background);\n",
       "  border-radius: 1em;\n",
       "  height: 1em;\n",
       "  width: 1em;\n",
       "  text-decoration: none !important;\n",
       "  margin-left: 1ex;\n",
       "  /* unfitted */\n",
       "  border: var(--sklearn-color-unfitted-level-1) 1pt solid;\n",
       "  color: var(--sklearn-color-unfitted-level-1);\n",
       "}\n",
       "\n",
       ".sk-estimator-doc-link.fitted,\n",
       "a:link.sk-estimator-doc-link.fitted,\n",
       "a:visited.sk-estimator-doc-link.fitted {\n",
       "  /* fitted */\n",
       "  border: var(--sklearn-color-fitted-level-1) 1pt solid;\n",
       "  color: var(--sklearn-color-fitted-level-1);\n",
       "}\n",
       "\n",
       "/* On hover */\n",
       "div.sk-estimator:hover .sk-estimator-doc-link:hover,\n",
       ".sk-estimator-doc-link:hover,\n",
       "div.sk-label-container:hover .sk-estimator-doc-link:hover,\n",
       ".sk-estimator-doc-link:hover {\n",
       "  /* unfitted */\n",
       "  background-color: var(--sklearn-color-unfitted-level-3);\n",
       "  color: var(--sklearn-color-background);\n",
       "  text-decoration: none;\n",
       "}\n",
       "\n",
       "div.sk-estimator.fitted:hover .sk-estimator-doc-link.fitted:hover,\n",
       ".sk-estimator-doc-link.fitted:hover,\n",
       "div.sk-label-container:hover .sk-estimator-doc-link.fitted:hover,\n",
       ".sk-estimator-doc-link.fitted:hover {\n",
       "  /* fitted */\n",
       "  background-color: var(--sklearn-color-fitted-level-3);\n",
       "  color: var(--sklearn-color-background);\n",
       "  text-decoration: none;\n",
       "}\n",
       "\n",
       "/* Span, style for the box shown on hovering the info icon */\n",
       ".sk-estimator-doc-link span {\n",
       "  display: none;\n",
       "  z-index: 9999;\n",
       "  position: relative;\n",
       "  font-weight: normal;\n",
       "  right: .2ex;\n",
       "  padding: .5ex;\n",
       "  margin: .5ex;\n",
       "  width: min-content;\n",
       "  min-width: 20ex;\n",
       "  max-width: 50ex;\n",
       "  color: var(--sklearn-color-text);\n",
       "  box-shadow: 2pt 2pt 4pt #999;\n",
       "  /* unfitted */\n",
       "  background: var(--sklearn-color-unfitted-level-0);\n",
       "  border: .5pt solid var(--sklearn-color-unfitted-level-3);\n",
       "}\n",
       "\n",
       ".sk-estimator-doc-link.fitted span {\n",
       "  /* fitted */\n",
       "  background: var(--sklearn-color-fitted-level-0);\n",
       "  border: var(--sklearn-color-fitted-level-3);\n",
       "}\n",
       "\n",
       ".sk-estimator-doc-link:hover span {\n",
       "  display: block;\n",
       "}\n",
       "\n",
       "/* \"?\"-specific style due to the `<a>` HTML tag */\n",
       "\n",
       "#sk-container-id-16 a.estimator_doc_link {\n",
       "  float: right;\n",
       "  font-size: 1rem;\n",
       "  line-height: 1em;\n",
       "  font-family: monospace;\n",
       "  background-color: var(--sklearn-color-background);\n",
       "  border-radius: 1rem;\n",
       "  height: 1rem;\n",
       "  width: 1rem;\n",
       "  text-decoration: none;\n",
       "  /* unfitted */\n",
       "  color: var(--sklearn-color-unfitted-level-1);\n",
       "  border: var(--sklearn-color-unfitted-level-1) 1pt solid;\n",
       "}\n",
       "\n",
       "#sk-container-id-16 a.estimator_doc_link.fitted {\n",
       "  /* fitted */\n",
       "  border: var(--sklearn-color-fitted-level-1) 1pt solid;\n",
       "  color: var(--sklearn-color-fitted-level-1);\n",
       "}\n",
       "\n",
       "/* On hover */\n",
       "#sk-container-id-16 a.estimator_doc_link:hover {\n",
       "  /* unfitted */\n",
       "  background-color: var(--sklearn-color-unfitted-level-3);\n",
       "  color: var(--sklearn-color-background);\n",
       "  text-decoration: none;\n",
       "}\n",
       "\n",
       "#sk-container-id-16 a.estimator_doc_link.fitted:hover {\n",
       "  /* fitted */\n",
       "  background-color: var(--sklearn-color-fitted-level-3);\n",
       "}\n",
       "</style><div id=\"sk-container-id-16\" class=\"sk-top-container\"><div class=\"sk-text-repr-fallback\"><pre>RandomizedSearchCV(cv=3,\n",
       "                   estimator=GradientBoostingClassifier(max_depth=None,\n",
       "                                                        random_state=42),\n",
       "                   n_jobs=-1,\n",
       "                   param_distributions={&#x27;learning_rate&#x27;: &lt;scipy.stats._distn_infrastructure.rv_sample object at 0x0000018D4B6139D0&gt;,\n",
       "                                        &#x27;max_leaf_nodes&#x27;: &lt;scipy.stats._distn_infrastructure.rv_sample object at 0x0000018D6F1FC9D0&gt;,\n",
       "                                        &#x27;min_samples_leaf&#x27;: &lt;scipy.stats._distn_infrastructure.rv_sample object at 0x0000018D4B632260&gt;,\n",
       "                                        &#x27;n_estimators&#x27;: &lt;scipy.stats._distn_infrastructure.rv_sample object at 0x0000018D6F1FF6A0&gt;,\n",
       "                                        &#x27;subsample&#x27;: &lt;scipy.stats._distn_infrastructure.rv_sample object at 0x0000018D4B631A80&gt;},\n",
       "                   random_state=42, scoring=&#x27;f1&#x27;)</pre><b>In a Jupyter environment, please rerun this cell to show the HTML representation or trust the notebook. <br />On GitHub, the HTML representation is unable to render, please try loading this page with nbviewer.org.</b></div><div class=\"sk-container\" hidden><div class=\"sk-item sk-dashed-wrapped\"><div class=\"sk-label-container\"><div class=\"sk-label fitted sk-toggleable\"><input class=\"sk-toggleable__control sk-hidden--visually\" id=\"sk-estimator-id-26\" type=\"checkbox\" ><label for=\"sk-estimator-id-26\" class=\"sk-toggleable__label fitted sk-toggleable__label-arrow fitted\">&nbsp;&nbsp;RandomizedSearchCV<a class=\"sk-estimator-doc-link fitted\" rel=\"noreferrer\" target=\"_blank\" href=\"https://scikit-learn.org/1.5/modules/generated/sklearn.model_selection.RandomizedSearchCV.html\">?<span>Documentation for RandomizedSearchCV</span></a><span class=\"sk-estimator-doc-link fitted\">i<span>Fitted</span></span></label><div class=\"sk-toggleable__content fitted\"><pre>RandomizedSearchCV(cv=3,\n",
       "                   estimator=GradientBoostingClassifier(max_depth=None,\n",
       "                                                        random_state=42),\n",
       "                   n_jobs=-1,\n",
       "                   param_distributions={&#x27;learning_rate&#x27;: &lt;scipy.stats._distn_infrastructure.rv_sample object at 0x0000018D4B6139D0&gt;,\n",
       "                                        &#x27;max_leaf_nodes&#x27;: &lt;scipy.stats._distn_infrastructure.rv_sample object at 0x0000018D6F1FC9D0&gt;,\n",
       "                                        &#x27;min_samples_leaf&#x27;: &lt;scipy.stats._distn_infrastructure.rv_sample object at 0x0000018D4B632260&gt;,\n",
       "                                        &#x27;n_estimators&#x27;: &lt;scipy.stats._distn_infrastructure.rv_sample object at 0x0000018D6F1FF6A0&gt;,\n",
       "                                        &#x27;subsample&#x27;: &lt;scipy.stats._distn_infrastructure.rv_sample object at 0x0000018D4B631A80&gt;},\n",
       "                   random_state=42, scoring=&#x27;f1&#x27;)</pre></div> </div></div><div class=\"sk-parallel\"><div class=\"sk-parallel-item\"><div class=\"sk-item\"><div class=\"sk-label-container\"><div class=\"sk-label fitted sk-toggleable\"><input class=\"sk-toggleable__control sk-hidden--visually\" id=\"sk-estimator-id-27\" type=\"checkbox\" ><label for=\"sk-estimator-id-27\" class=\"sk-toggleable__label fitted sk-toggleable__label-arrow fitted\">best_estimator_: GradientBoostingClassifier</label><div class=\"sk-toggleable__content fitted\"><pre>GradientBoostingClassifier(learning_rate=0.03, max_depth=None,\n",
       "                           max_leaf_nodes=10, min_samples_leaf=5,\n",
       "                           n_estimators=80, random_state=42, subsample=0.6)</pre></div> </div></div><div class=\"sk-serial\"><div class=\"sk-item\"><div class=\"sk-estimator fitted sk-toggleable\"><input class=\"sk-toggleable__control sk-hidden--visually\" id=\"sk-estimator-id-28\" type=\"checkbox\" ><label for=\"sk-estimator-id-28\" class=\"sk-toggleable__label fitted sk-toggleable__label-arrow fitted\">&nbsp;GradientBoostingClassifier<a class=\"sk-estimator-doc-link fitted\" rel=\"noreferrer\" target=\"_blank\" href=\"https://scikit-learn.org/1.5/modules/generated/sklearn.ensemble.GradientBoostingClassifier.html\">?<span>Documentation for GradientBoostingClassifier</span></a></label><div class=\"sk-toggleable__content fitted\"><pre>GradientBoostingClassifier(learning_rate=0.03, max_depth=None,\n",
       "                           max_leaf_nodes=10, min_samples_leaf=5,\n",
       "                           n_estimators=80, random_state=42, subsample=0.6)</pre></div> </div></div></div></div></div></div></div></div></div>"
      ],
      "text/plain": [
       "RandomizedSearchCV(cv=3,\n",
       "                   estimator=GradientBoostingClassifier(max_depth=None,\n",
       "                                                        random_state=42),\n",
       "                   n_jobs=-1,\n",
       "                   param_distributions={'learning_rate': <scipy.stats._distn_infrastructure.rv_sample object at 0x0000018D4B6139D0>,\n",
       "                                        'max_leaf_nodes': <scipy.stats._distn_infrastructure.rv_sample object at 0x0000018D6F1FC9D0>,\n",
       "                                        'min_samples_leaf': <scipy.stats._distn_infrastructure.rv_sample object at 0x0000018D4B632260>,\n",
       "                                        'n_estimators': <scipy.stats._distn_infrastructure.rv_sample object at 0x0000018D6F1FF6A0>,\n",
       "                                        'subsample': <scipy.stats._distn_infrastructure.rv_sample object at 0x0000018D4B631A80>},\n",
       "                   random_state=42, scoring='f1')"
      ]
     },
     "execution_count": 150,
     "metadata": {},
     "output_type": "execute_result"
    }
   ],
   "source": [
    "# Define probability distribution of the hyperparameters to evaluate.\n",
    "msl_val = (5, 10)\n",
    "msl_prob = (0.6, 0.4)\n",
    "msl_dist = rv_discrete(values=(msl_val, msl_prob))\n",
    "\n",
    "mln_val = (10, 20, 30)\n",
    "mln_prob = (0.35, 0.35, 0.3)\n",
    "mln_dist = rv_discrete(values=(mln_val, mln_prob))\n",
    "\n",
    "lr_val = (0.003, 0.01, 0.03)\n",
    "lr_prob = (1/3, 1/3, 1/3)\n",
    "lr_dist = rv_discrete(values=(lr_val, lr_prob))\n",
    "\n",
    "ntrees_val = (60, 80, 100)\n",
    "ntrees_prob = (0.45, 0.45, 0.1)\n",
    "ntrees_dist = rv_discrete(values=(ntrees_val, ntrees_prob))\n",
    "\n",
    "subs_val = (0.6, 0.8, 1)\n",
    "subs_prob = (0.2, 0.3, 0.5)\n",
    "subs_dist = rv_discrete(values=(subs_val, subs_prob))\n",
    "\n",
    "# Use CV to find the optimal hyperparameters and train the validation model.\n",
    "gbc_base = GradientBoostingClassifier(max_depth=None, random_state=random_seed)\n",
    "\n",
    "parameters = {\n",
    "    \"min_samples_leaf\": msl_dist,\n",
    "    \"max_leaf_nodes\": mln_dist,\n",
    "    \"learning_rate\": lr_dist,\n",
    "    \"n_estimators\": ntrees_dist,\n",
    "    \"subsample\": subs_dist,\n",
    "}\n",
    "\n",
    "gbc_search = RandomizedSearchCV(\n",
    "    estimator=hgbr_base,\n",
    "    param_distributions=parameters,\n",
    "    n_iter=10,\n",
    "    cv=3,\n",
    "    scoring=\"f1\",\n",
    "    n_jobs=-1,\n",
    "    random_state=42,\n",
    ")\n",
    "gbc_search.fit(X_train_resampled, y_train_resampled)"
   ]
  },
  {
   "cell_type": "code",
   "execution_count": 151,
   "metadata": {},
   "outputs": [
    {
     "data": {
      "text/plain": [
       "{'learning_rate': 0.03,\n",
       " 'max_leaf_nodes': 10,\n",
       " 'min_samples_leaf': 5,\n",
       " 'n_estimators': 80,\n",
       " 'subsample': 0.6}"
      ]
     },
     "execution_count": 151,
     "metadata": {},
     "output_type": "execute_result"
    }
   ],
   "source": [
    "gbc_search.best_params_"
   ]
  },
  {
   "cell_type": "code",
   "execution_count": 154,
   "metadata": {},
   "outputs": [
    {
     "data": {
      "text/html": [
       "<style>#sk-container-id-17 {\n",
       "  /* Definition of color scheme common for light and dark mode */\n",
       "  --sklearn-color-text: black;\n",
       "  --sklearn-color-line: gray;\n",
       "  /* Definition of color scheme for unfitted estimators */\n",
       "  --sklearn-color-unfitted-level-0: #fff5e6;\n",
       "  --sklearn-color-unfitted-level-1: #f6e4d2;\n",
       "  --sklearn-color-unfitted-level-2: #ffe0b3;\n",
       "  --sklearn-color-unfitted-level-3: chocolate;\n",
       "  /* Definition of color scheme for fitted estimators */\n",
       "  --sklearn-color-fitted-level-0: #f0f8ff;\n",
       "  --sklearn-color-fitted-level-1: #d4ebff;\n",
       "  --sklearn-color-fitted-level-2: #b3dbfd;\n",
       "  --sklearn-color-fitted-level-3: cornflowerblue;\n",
       "\n",
       "  /* Specific color for light theme */\n",
       "  --sklearn-color-text-on-default-background: var(--sg-text-color, var(--theme-code-foreground, var(--jp-content-font-color1, black)));\n",
       "  --sklearn-color-background: var(--sg-background-color, var(--theme-background, var(--jp-layout-color0, white)));\n",
       "  --sklearn-color-border-box: var(--sg-text-color, var(--theme-code-foreground, var(--jp-content-font-color1, black)));\n",
       "  --sklearn-color-icon: #696969;\n",
       "\n",
       "  @media (prefers-color-scheme: dark) {\n",
       "    /* Redefinition of color scheme for dark theme */\n",
       "    --sklearn-color-text-on-default-background: var(--sg-text-color, var(--theme-code-foreground, var(--jp-content-font-color1, white)));\n",
       "    --sklearn-color-background: var(--sg-background-color, var(--theme-background, var(--jp-layout-color0, #111)));\n",
       "    --sklearn-color-border-box: var(--sg-text-color, var(--theme-code-foreground, var(--jp-content-font-color1, white)));\n",
       "    --sklearn-color-icon: #878787;\n",
       "  }\n",
       "}\n",
       "\n",
       "#sk-container-id-17 {\n",
       "  color: var(--sklearn-color-text);\n",
       "}\n",
       "\n",
       "#sk-container-id-17 pre {\n",
       "  padding: 0;\n",
       "}\n",
       "\n",
       "#sk-container-id-17 input.sk-hidden--visually {\n",
       "  border: 0;\n",
       "  clip: rect(1px 1px 1px 1px);\n",
       "  clip: rect(1px, 1px, 1px, 1px);\n",
       "  height: 1px;\n",
       "  margin: -1px;\n",
       "  overflow: hidden;\n",
       "  padding: 0;\n",
       "  position: absolute;\n",
       "  width: 1px;\n",
       "}\n",
       "\n",
       "#sk-container-id-17 div.sk-dashed-wrapped {\n",
       "  border: 1px dashed var(--sklearn-color-line);\n",
       "  margin: 0 0.4em 0.5em 0.4em;\n",
       "  box-sizing: border-box;\n",
       "  padding-bottom: 0.4em;\n",
       "  background-color: var(--sklearn-color-background);\n",
       "}\n",
       "\n",
       "#sk-container-id-17 div.sk-container {\n",
       "  /* jupyter's `normalize.less` sets `[hidden] { display: none; }`\n",
       "     but bootstrap.min.css set `[hidden] { display: none !important; }`\n",
       "     so we also need the `!important` here to be able to override the\n",
       "     default hidden behavior on the sphinx rendered scikit-learn.org.\n",
       "     See: https://github.com/scikit-learn/scikit-learn/issues/21755 */\n",
       "  display: inline-block !important;\n",
       "  position: relative;\n",
       "}\n",
       "\n",
       "#sk-container-id-17 div.sk-text-repr-fallback {\n",
       "  display: none;\n",
       "}\n",
       "\n",
       "div.sk-parallel-item,\n",
       "div.sk-serial,\n",
       "div.sk-item {\n",
       "  /* draw centered vertical line to link estimators */\n",
       "  background-image: linear-gradient(var(--sklearn-color-text-on-default-background), var(--sklearn-color-text-on-default-background));\n",
       "  background-size: 2px 100%;\n",
       "  background-repeat: no-repeat;\n",
       "  background-position: center center;\n",
       "}\n",
       "\n",
       "/* Parallel-specific style estimator block */\n",
       "\n",
       "#sk-container-id-17 div.sk-parallel-item::after {\n",
       "  content: \"\";\n",
       "  width: 100%;\n",
       "  border-bottom: 2px solid var(--sklearn-color-text-on-default-background);\n",
       "  flex-grow: 1;\n",
       "}\n",
       "\n",
       "#sk-container-id-17 div.sk-parallel {\n",
       "  display: flex;\n",
       "  align-items: stretch;\n",
       "  justify-content: center;\n",
       "  background-color: var(--sklearn-color-background);\n",
       "  position: relative;\n",
       "}\n",
       "\n",
       "#sk-container-id-17 div.sk-parallel-item {\n",
       "  display: flex;\n",
       "  flex-direction: column;\n",
       "}\n",
       "\n",
       "#sk-container-id-17 div.sk-parallel-item:first-child::after {\n",
       "  align-self: flex-end;\n",
       "  width: 50%;\n",
       "}\n",
       "\n",
       "#sk-container-id-17 div.sk-parallel-item:last-child::after {\n",
       "  align-self: flex-start;\n",
       "  width: 50%;\n",
       "}\n",
       "\n",
       "#sk-container-id-17 div.sk-parallel-item:only-child::after {\n",
       "  width: 0;\n",
       "}\n",
       "\n",
       "/* Serial-specific style estimator block */\n",
       "\n",
       "#sk-container-id-17 div.sk-serial {\n",
       "  display: flex;\n",
       "  flex-direction: column;\n",
       "  align-items: center;\n",
       "  background-color: var(--sklearn-color-background);\n",
       "  padding-right: 1em;\n",
       "  padding-left: 1em;\n",
       "}\n",
       "\n",
       "\n",
       "/* Toggleable style: style used for estimator/Pipeline/ColumnTransformer box that is\n",
       "clickable and can be expanded/collapsed.\n",
       "- Pipeline and ColumnTransformer use this feature and define the default style\n",
       "- Estimators will overwrite some part of the style using the `sk-estimator` class\n",
       "*/\n",
       "\n",
       "/* Pipeline and ColumnTransformer style (default) */\n",
       "\n",
       "#sk-container-id-17 div.sk-toggleable {\n",
       "  /* Default theme specific background. It is overwritten whether we have a\n",
       "  specific estimator or a Pipeline/ColumnTransformer */\n",
       "  background-color: var(--sklearn-color-background);\n",
       "}\n",
       "\n",
       "/* Toggleable label */\n",
       "#sk-container-id-17 label.sk-toggleable__label {\n",
       "  cursor: pointer;\n",
       "  display: block;\n",
       "  width: 100%;\n",
       "  margin-bottom: 0;\n",
       "  padding: 0.5em;\n",
       "  box-sizing: border-box;\n",
       "  text-align: center;\n",
       "}\n",
       "\n",
       "#sk-container-id-17 label.sk-toggleable__label-arrow:before {\n",
       "  /* Arrow on the left of the label */\n",
       "  content: \"▸\";\n",
       "  float: left;\n",
       "  margin-right: 0.25em;\n",
       "  color: var(--sklearn-color-icon);\n",
       "}\n",
       "\n",
       "#sk-container-id-17 label.sk-toggleable__label-arrow:hover:before {\n",
       "  color: var(--sklearn-color-text);\n",
       "}\n",
       "\n",
       "/* Toggleable content - dropdown */\n",
       "\n",
       "#sk-container-id-17 div.sk-toggleable__content {\n",
       "  max-height: 0;\n",
       "  max-width: 0;\n",
       "  overflow: hidden;\n",
       "  text-align: left;\n",
       "  /* unfitted */\n",
       "  background-color: var(--sklearn-color-unfitted-level-0);\n",
       "}\n",
       "\n",
       "#sk-container-id-17 div.sk-toggleable__content.fitted {\n",
       "  /* fitted */\n",
       "  background-color: var(--sklearn-color-fitted-level-0);\n",
       "}\n",
       "\n",
       "#sk-container-id-17 div.sk-toggleable__content pre {\n",
       "  margin: 0.2em;\n",
       "  border-radius: 0.25em;\n",
       "  color: var(--sklearn-color-text);\n",
       "  /* unfitted */\n",
       "  background-color: var(--sklearn-color-unfitted-level-0);\n",
       "}\n",
       "\n",
       "#sk-container-id-17 div.sk-toggleable__content.fitted pre {\n",
       "  /* unfitted */\n",
       "  background-color: var(--sklearn-color-fitted-level-0);\n",
       "}\n",
       "\n",
       "#sk-container-id-17 input.sk-toggleable__control:checked~div.sk-toggleable__content {\n",
       "  /* Expand drop-down */\n",
       "  max-height: 200px;\n",
       "  max-width: 100%;\n",
       "  overflow: auto;\n",
       "}\n",
       "\n",
       "#sk-container-id-17 input.sk-toggleable__control:checked~label.sk-toggleable__label-arrow:before {\n",
       "  content: \"▾\";\n",
       "}\n",
       "\n",
       "/* Pipeline/ColumnTransformer-specific style */\n",
       "\n",
       "#sk-container-id-17 div.sk-label input.sk-toggleable__control:checked~label.sk-toggleable__label {\n",
       "  color: var(--sklearn-color-text);\n",
       "  background-color: var(--sklearn-color-unfitted-level-2);\n",
       "}\n",
       "\n",
       "#sk-container-id-17 div.sk-label.fitted input.sk-toggleable__control:checked~label.sk-toggleable__label {\n",
       "  background-color: var(--sklearn-color-fitted-level-2);\n",
       "}\n",
       "\n",
       "/* Estimator-specific style */\n",
       "\n",
       "/* Colorize estimator box */\n",
       "#sk-container-id-17 div.sk-estimator input.sk-toggleable__control:checked~label.sk-toggleable__label {\n",
       "  /* unfitted */\n",
       "  background-color: var(--sklearn-color-unfitted-level-2);\n",
       "}\n",
       "\n",
       "#sk-container-id-17 div.sk-estimator.fitted input.sk-toggleable__control:checked~label.sk-toggleable__label {\n",
       "  /* fitted */\n",
       "  background-color: var(--sklearn-color-fitted-level-2);\n",
       "}\n",
       "\n",
       "#sk-container-id-17 div.sk-label label.sk-toggleable__label,\n",
       "#sk-container-id-17 div.sk-label label {\n",
       "  /* The background is the default theme color */\n",
       "  color: var(--sklearn-color-text-on-default-background);\n",
       "}\n",
       "\n",
       "/* On hover, darken the color of the background */\n",
       "#sk-container-id-17 div.sk-label:hover label.sk-toggleable__label {\n",
       "  color: var(--sklearn-color-text);\n",
       "  background-color: var(--sklearn-color-unfitted-level-2);\n",
       "}\n",
       "\n",
       "/* Label box, darken color on hover, fitted */\n",
       "#sk-container-id-17 div.sk-label.fitted:hover label.sk-toggleable__label.fitted {\n",
       "  color: var(--sklearn-color-text);\n",
       "  background-color: var(--sklearn-color-fitted-level-2);\n",
       "}\n",
       "\n",
       "/* Estimator label */\n",
       "\n",
       "#sk-container-id-17 div.sk-label label {\n",
       "  font-family: monospace;\n",
       "  font-weight: bold;\n",
       "  display: inline-block;\n",
       "  line-height: 1.2em;\n",
       "}\n",
       "\n",
       "#sk-container-id-17 div.sk-label-container {\n",
       "  text-align: center;\n",
       "}\n",
       "\n",
       "/* Estimator-specific */\n",
       "#sk-container-id-17 div.sk-estimator {\n",
       "  font-family: monospace;\n",
       "  border: 1px dotted var(--sklearn-color-border-box);\n",
       "  border-radius: 0.25em;\n",
       "  box-sizing: border-box;\n",
       "  margin-bottom: 0.5em;\n",
       "  /* unfitted */\n",
       "  background-color: var(--sklearn-color-unfitted-level-0);\n",
       "}\n",
       "\n",
       "#sk-container-id-17 div.sk-estimator.fitted {\n",
       "  /* fitted */\n",
       "  background-color: var(--sklearn-color-fitted-level-0);\n",
       "}\n",
       "\n",
       "/* on hover */\n",
       "#sk-container-id-17 div.sk-estimator:hover {\n",
       "  /* unfitted */\n",
       "  background-color: var(--sklearn-color-unfitted-level-2);\n",
       "}\n",
       "\n",
       "#sk-container-id-17 div.sk-estimator.fitted:hover {\n",
       "  /* fitted */\n",
       "  background-color: var(--sklearn-color-fitted-level-2);\n",
       "}\n",
       "\n",
       "/* Specification for estimator info (e.g. \"i\" and \"?\") */\n",
       "\n",
       "/* Common style for \"i\" and \"?\" */\n",
       "\n",
       ".sk-estimator-doc-link,\n",
       "a:link.sk-estimator-doc-link,\n",
       "a:visited.sk-estimator-doc-link {\n",
       "  float: right;\n",
       "  font-size: smaller;\n",
       "  line-height: 1em;\n",
       "  font-family: monospace;\n",
       "  background-color: var(--sklearn-color-background);\n",
       "  border-radius: 1em;\n",
       "  height: 1em;\n",
       "  width: 1em;\n",
       "  text-decoration: none !important;\n",
       "  margin-left: 1ex;\n",
       "  /* unfitted */\n",
       "  border: var(--sklearn-color-unfitted-level-1) 1pt solid;\n",
       "  color: var(--sklearn-color-unfitted-level-1);\n",
       "}\n",
       "\n",
       ".sk-estimator-doc-link.fitted,\n",
       "a:link.sk-estimator-doc-link.fitted,\n",
       "a:visited.sk-estimator-doc-link.fitted {\n",
       "  /* fitted */\n",
       "  border: var(--sklearn-color-fitted-level-1) 1pt solid;\n",
       "  color: var(--sklearn-color-fitted-level-1);\n",
       "}\n",
       "\n",
       "/* On hover */\n",
       "div.sk-estimator:hover .sk-estimator-doc-link:hover,\n",
       ".sk-estimator-doc-link:hover,\n",
       "div.sk-label-container:hover .sk-estimator-doc-link:hover,\n",
       ".sk-estimator-doc-link:hover {\n",
       "  /* unfitted */\n",
       "  background-color: var(--sklearn-color-unfitted-level-3);\n",
       "  color: var(--sklearn-color-background);\n",
       "  text-decoration: none;\n",
       "}\n",
       "\n",
       "div.sk-estimator.fitted:hover .sk-estimator-doc-link.fitted:hover,\n",
       ".sk-estimator-doc-link.fitted:hover,\n",
       "div.sk-label-container:hover .sk-estimator-doc-link.fitted:hover,\n",
       ".sk-estimator-doc-link.fitted:hover {\n",
       "  /* fitted */\n",
       "  background-color: var(--sklearn-color-fitted-level-3);\n",
       "  color: var(--sklearn-color-background);\n",
       "  text-decoration: none;\n",
       "}\n",
       "\n",
       "/* Span, style for the box shown on hovering the info icon */\n",
       ".sk-estimator-doc-link span {\n",
       "  display: none;\n",
       "  z-index: 9999;\n",
       "  position: relative;\n",
       "  font-weight: normal;\n",
       "  right: .2ex;\n",
       "  padding: .5ex;\n",
       "  margin: .5ex;\n",
       "  width: min-content;\n",
       "  min-width: 20ex;\n",
       "  max-width: 50ex;\n",
       "  color: var(--sklearn-color-text);\n",
       "  box-shadow: 2pt 2pt 4pt #999;\n",
       "  /* unfitted */\n",
       "  background: var(--sklearn-color-unfitted-level-0);\n",
       "  border: .5pt solid var(--sklearn-color-unfitted-level-3);\n",
       "}\n",
       "\n",
       ".sk-estimator-doc-link.fitted span {\n",
       "  /* fitted */\n",
       "  background: var(--sklearn-color-fitted-level-0);\n",
       "  border: var(--sklearn-color-fitted-level-3);\n",
       "}\n",
       "\n",
       ".sk-estimator-doc-link:hover span {\n",
       "  display: block;\n",
       "}\n",
       "\n",
       "/* \"?\"-specific style due to the `<a>` HTML tag */\n",
       "\n",
       "#sk-container-id-17 a.estimator_doc_link {\n",
       "  float: right;\n",
       "  font-size: 1rem;\n",
       "  line-height: 1em;\n",
       "  font-family: monospace;\n",
       "  background-color: var(--sklearn-color-background);\n",
       "  border-radius: 1rem;\n",
       "  height: 1rem;\n",
       "  width: 1rem;\n",
       "  text-decoration: none;\n",
       "  /* unfitted */\n",
       "  color: var(--sklearn-color-unfitted-level-1);\n",
       "  border: var(--sklearn-color-unfitted-level-1) 1pt solid;\n",
       "}\n",
       "\n",
       "#sk-container-id-17 a.estimator_doc_link.fitted {\n",
       "  /* fitted */\n",
       "  border: var(--sklearn-color-fitted-level-1) 1pt solid;\n",
       "  color: var(--sklearn-color-fitted-level-1);\n",
       "}\n",
       "\n",
       "/* On hover */\n",
       "#sk-container-id-17 a.estimator_doc_link:hover {\n",
       "  /* unfitted */\n",
       "  background-color: var(--sklearn-color-unfitted-level-3);\n",
       "  color: var(--sklearn-color-background);\n",
       "  text-decoration: none;\n",
       "}\n",
       "\n",
       "#sk-container-id-17 a.estimator_doc_link.fitted:hover {\n",
       "  /* fitted */\n",
       "  background-color: var(--sklearn-color-fitted-level-3);\n",
       "}\n",
       "</style><div id=\"sk-container-id-17\" class=\"sk-top-container\"><div class=\"sk-text-repr-fallback\"><pre>GradientBoostingClassifier(learning_rate=0.03, max_leaf_nodes=10,\n",
       "                           min_samples_leaf=5, n_estimators=80, random_state=42,\n",
       "                           subsample=0.6)</pre><b>In a Jupyter environment, please rerun this cell to show the HTML representation or trust the notebook. <br />On GitHub, the HTML representation is unable to render, please try loading this page with nbviewer.org.</b></div><div class=\"sk-container\" hidden><div class=\"sk-item\"><div class=\"sk-estimator fitted sk-toggleable\"><input class=\"sk-toggleable__control sk-hidden--visually\" id=\"sk-estimator-id-29\" type=\"checkbox\" checked><label for=\"sk-estimator-id-29\" class=\"sk-toggleable__label fitted sk-toggleable__label-arrow fitted\">&nbsp;&nbsp;GradientBoostingClassifier<a class=\"sk-estimator-doc-link fitted\" rel=\"noreferrer\" target=\"_blank\" href=\"https://scikit-learn.org/1.5/modules/generated/sklearn.ensemble.GradientBoostingClassifier.html\">?<span>Documentation for GradientBoostingClassifier</span></a><span class=\"sk-estimator-doc-link fitted\">i<span>Fitted</span></span></label><div class=\"sk-toggleable__content fitted\"><pre>GradientBoostingClassifier(learning_rate=0.03, max_leaf_nodes=10,\n",
       "                           min_samples_leaf=5, n_estimators=80, random_state=42,\n",
       "                           subsample=0.6)</pre></div> </div></div></div></div>"
      ],
      "text/plain": [
       "GradientBoostingClassifier(learning_rate=0.03, max_leaf_nodes=10,\n",
       "                           min_samples_leaf=5, n_estimators=80, random_state=42,\n",
       "                           subsample=0.6)"
      ]
     },
     "execution_count": 154,
     "metadata": {},
     "output_type": "execute_result"
    }
   ],
   "source": [
    "gbc_final = GradientBoostingClassifier(\n",
    "    **hgbr_search.best_params_, random_state=random_seed\n",
    ")\n",
    "\n",
    "gbc_final.fit(X_train_resampled, y_train_resampled)"
   ]
  },
  {
   "cell_type": "markdown",
   "metadata": {},
   "source": [
    "---"
   ]
  },
  {
   "cell_type": "markdown",
   "metadata": {},
   "source": [
    "#### Model Evaluation"
   ]
  },
  {
   "cell_type": "code",
   "execution_count": 156,
   "metadata": {},
   "outputs": [],
   "source": [
    "y_test_pred = gbc_final.predict(X_test)"
   ]
  },
  {
   "cell_type": "code",
   "execution_count": 157,
   "metadata": {},
   "outputs": [
    {
     "data": {
      "image/png": "[encoded data removed]",
      "text/plain": [
       "<Figure size 300x300 with 1 Axes>"
      ]
     },
     "metadata": {},
     "output_type": "display_data"
    },
    {
     "name": "stdout",
     "output_type": "stream",
     "text": [
      "Accuracy: 0.809\n",
      "Precision: 0.552\n",
      "Recall: 0.705\n",
      "F1 Score: 0.619\n"
     ]
    }
   ],
   "source": [
    "evaluate_predictions(y_test, y_test_pred)"
   ]
  }
 ],
 "metadata": {
  "kernelspec": {
   "display_name": "2023_CEIA-n1a1_Nsd",
   "language": "python",
   "name": "python3"
  },
  "language_info": {
   "codemirror_mode": {
    "name": "ipython",
    "version": 3
   },
   "file_extension": ".py",
   "mimetype": "text/x-python",
   "name": "python",
   "nbconvert_exporter": "python",
   "pygments_lexer": "ipython3",
   "version": "3.10.11"
  }
 },
 "nbformat": 4,
 "nbformat_minor": 2
}
