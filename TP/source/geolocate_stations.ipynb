{
 "cells": [
  {
   "cell_type": "code",
   "execution_count": 1,
   "metadata": {},
   "outputs": [],
   "source": [
    "import re\n",
    "from pathlib import Path\n",
    "\n",
    "import osmnx as ox\n",
    "import pandas as pd"
   ]
  },
  {
   "cell_type": "code",
   "execution_count": null,
   "metadata": {},
   "outputs": [],
   "source": [
    "pd.options.mode.chained_assignment = None\n",
    "\n",
    "main_path = Path.cwd() / \"..\"\n",
    "df = pd.read_csv(main_path / \"data/weatherAUS.csv\")"
   ]
  },
  {
   "cell_type": "code",
   "execution_count": null,
   "metadata": {},
   "outputs": [],
   "source": [
    "# Geolocate stations\n",
    "country = \"Australia\"\n",
    "\n",
    "mapping_dict = {\"Dartmoor\": \"DartmoorVillage\", \"Richmond\": \"RichmondSydney\"}\n",
    "df[\"Location\"] = df[\"Location\"].map(mapping_dict).fillna(df[\"Location\"])\n",
    "\n",
    "locations = df[\"Location\"].unique()\n",
    "locations = [re.sub(r'([a-z])([A-Z])', r'\\1 \\2', l) for l in locations]\n",
    "\n",
    "locs = []\n",
    "lats = []\n",
    "lons = []\n",
    "for location in locations:\n",
    "    try:\n",
    "        lat, lon = ox.geocode(location + f\", {country}\")\n",
    "\n",
    "        locs.append(location.replace(\" \", \"\"))\n",
    "        lats.append(lat)\n",
    "        lons.append(lon)\n",
    "    except Exception as e:\n",
    "        print(f\"Error retrieving coordinates for {location}: {e}\")\n",
    "\n",
    "df_locations = pd.DataFrame({\n",
    "    'Location': locs,\n",
    "    'Lat': lats,\n",
    "    'Lon': lons\n",
    "})"
   ]
  }
 ],
 "metadata": {
  "kernelspec": {
   "display_name": "2023_CEIA-n1a1_Nsd",
   "language": "python",
   "name": "python3"
  },
  "language_info": {
   "codemirror_mode": {
    "name": "ipython",
    "version": 3
   },
   "file_extension": ".py",
   "mimetype": "text/x-python",
   "name": "python",
   "nbconvert_exporter": "python",
   "pygments_lexer": "ipython3",
   "version": "3.11.9"
  }
 },
 "nbformat": 4,
 "nbformat_minor": 2
}
