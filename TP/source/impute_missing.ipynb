{
 "cells": [
  {
   "cell_type": "code",
   "execution_count": 485,
   "metadata": {},
   "outputs": [],
   "source": [
    "import json\n",
    "import os\n",
    "import random\n",
    "import re  # Expresiones regulares\n",
    "import sys  # Interactuar con el sistema\n",
    "from itertools import chain, combinations  # Iteradores\n",
    "from pathlib import Path\n",
    "\n",
    "import geopandas as gpd  # Georeferenciacion\n",
    "import matplotlib.pyplot as plt  # Visualización de datos\n",
    "import numpy as np  # Albegra lineal\n",
    "import osmnx as ox  # OpenStreetMap\n",
    "import pandas as pd  # Procesamiento de datos\n",
    "import scipy.stats as stats\n",
    "import seaborn as sns  # Visualización de datos estadísticos\n",
    "import sklearn\n",
    "import utils\n",
    "from geopandas.datasets import get_path  # Ruta de los datos geográficos\n",
    "from scipy.stats import chi2_contingency  # Test de chi-cuadrado\n",
    "from scipy.stats import pearsonr\n",
    "from shapely.geometry import Point  # Geometría espacial\n",
    "from sklearn.decomposition import PCA\n",
    "from sklearn.ensemble import RandomForestClassifier\n",
    "from sklearn.linear_model import LogisticRegression, Ridge\n",
    "from sklearn.metrics import accuracy_score  # Metricas para evaluación\n",
    "from sklearn.metrics import (confusion_matrix, f1_score, precision_score,\n",
    "                             recall_score)\n",
    "from sklearn.model_selection import train_test_split\n",
    "from sklearn.preprocessing import OneHotEncoder, StandardScaler\n",
    "from tqdm.notebook import tqdm\n",
    "from ydata_profiling import ProfileReport"
   ]
  },
  {
   "cell_type": "code",
   "execution_count": 486,
   "metadata": {},
   "outputs": [],
   "source": [
    "pd.options.mode.chained_assignment = None\n",
    "\n",
    "random_seed = 42\n",
    "random.seed(random_seed)\n",
    "\n",
    "main_path = Path.cwd() / \"..\"\n",
    "df = pd.read_csv(main_path / \"data/weatherAUS.csv\")\n",
    "\n",
    "spectral_palette = [\n",
    "    \"#9e0142\",\n",
    "    \"#d53e4f\",\n",
    "    \"#f46d43\",\n",
    "    \"#fdae61\",\n",
    "    \"#fee08b\",\n",
    "    \"#ffffbf\",\n",
    "    \"#e6f598\",\n",
    "    \"#abdda4\",\n",
    "    \"#66c2a5\",\n",
    "    \"#3288bd\",\n",
    "    \"#5e4fa2\",\n",
    "]"
   ]
  },
  {
   "cell_type": "markdown",
   "metadata": {},
   "source": [
    "---"
   ]
  },
  {
   "cell_type": "markdown",
   "metadata": {},
   "source": [
    "#### Data cleansing"
   ]
  },
  {
   "cell_type": "markdown",
   "metadata": {},
   "source": [
    "Eliminamos las observaciones sin ground truth en la variable objetivo, ya que no van a ser necesarias para el entrenamiento (debido a la gran cantidad de observaciones con las que contamos y la relativamente baja proporción de datos faltantes en la variable objetivo), y tampoco nos van a ser útiles para evaluar el modelo ya que en la immputación podemos introducir ciertos sesgos."
   ]
  },
  {
   "cell_type": "code",
   "execution_count": 487,
   "metadata": {},
   "outputs": [
    {
     "name": "stdout",
     "output_type": "stream",
     "text": [
      "Proporción de datos faltantes en la variable objetivo: 0.022\n"
     ]
    }
   ],
   "source": [
    "print(\n",
    "    f\"Proporción de datos faltantes en la variable objetivo: {round(df.RainTomorrow.isna().mean(), 3)}\"\n",
    ")"
   ]
  },
  {
   "cell_type": "code",
   "execution_count": 488,
   "metadata": {},
   "outputs": [],
   "source": [
    "df = df.dropna(subset=[\"RainTomorrow\"])"
   ]
  },
  {
   "cell_type": "markdown",
   "metadata": {},
   "source": [
    "---"
   ]
  },
  {
   "cell_type": "markdown",
   "metadata": {},
   "source": [
    "#### Categorical features encoding"
   ]
  },
  {
   "cell_type": "markdown",
   "metadata": {},
   "source": [
    "##### Rain Today and Rain Tomorrow"
   ]
  },
  {
   "cell_type": "code",
   "execution_count": 489,
   "metadata": {},
   "outputs": [],
   "source": [
    "rain_columns = [\"RainToday\", \"RainTomorrow\"]\n",
    "mapping_dict = {\"Yes\" : 1, \"No\" : 0}\n",
    "\n",
    "for column in rain_columns:\n",
    "    df[column] = df[column].map(mapping_dict)"
   ]
  },
  {
   "cell_type": "markdown",
   "metadata": {},
   "source": [
    "##### Location"
   ]
  },
  {
   "cell_type": "code",
   "execution_count": 490,
   "metadata": {},
   "outputs": [],
   "source": [
    "# Geolocate stations\n",
    "country = \"Australia\"\n",
    "\n",
    "mapping_dict = {\"Dartmoor\": \"DartmoorVillage\", \"Richmond\": \"RichmondSydney\"}\n",
    "df[\"Location\"] = df[\"Location\"].map(mapping_dict).fillna(df[\"Location\"])\n",
    "\n",
    "locations = df[\"Location\"].unique()\n",
    "locations = [re.sub(r\"([a-z])([A-Z])\", r\"\\1 \\2\", l) for l in locations]\n",
    "\n",
    "locs = []\n",
    "lats = []\n",
    "lons = []\n",
    "for location in locations:\n",
    "    try:\n",
    "        lat, lon = ox.geocode(location + f\", {country}\")\n",
    "\n",
    "        locs.append(location.replace(\" \", \"\"))\n",
    "        lats.append(lat)\n",
    "        lons.append(lon)\n",
    "    except Exception as e:\n",
    "        print(f\"Error retrieving coordinates for {location}: {e}\")\n",
    "\n",
    "df_locations = pd.DataFrame({\"Location\": locs, \"Lat\": lats, \"Lon\": lons})\n",
    "\n",
    "df = pd.merge(df, df_locations, how=\"left\", on=\"Location\")"
   ]
  },
  {
   "cell_type": "markdown",
   "metadata": {},
   "source": [
    "##### Date"
   ]
  },
  {
   "cell_type": "code",
   "execution_count": 491,
   "metadata": {},
   "outputs": [],
   "source": [
    "df[\"Date\"] = pd.to_datetime(df[\"Date\"])\n",
    "\n",
    "df['DayOfYear'] = df['Date'].dt.dayofyear\n",
    "df['DaysInYear'] = df['Date'].dt.is_leap_year.apply(lambda leap: 366 if leap else 365)\n",
    "\n",
    "df['Angle'] = 2 * np.pi * (df['DayOfYear'] - 1) / (df['DaysInYear'])\n",
    "\n",
    "df['DayCos'] = np.cos(df['Angle'])\n",
    "df['DaySin'] = np.sin(df['Angle'])\n",
    "\n",
    "df = df.drop(columns=[\"DayOfYear\", \"DaysInYear\", \"Angle\"])"
   ]
  },
  {
   "cell_type": "markdown",
   "metadata": {},
   "source": [
    "##### Wind Dir"
   ]
  },
  {
   "cell_type": "code",
   "execution_count": 492,
   "metadata": {},
   "outputs": [],
   "source": [
    "dirs = [\"E\", \"ENE\", \"NE\", \"NNE\", \"N\", \"NNW\", \"NW\", \"WNW\", \"W\", \"WSW\", \"SW\", \"SSW\", \"S\", \"SSE\", \"SE\", \"ESE\"]\n",
    "angles = np.radians(np.arange(0, 360, 22.5))\n",
    "mapping_dict = {d: a for (d, a) in zip(dirs, angles)}\n",
    "\n",
    "wind_dir_columns = [\"WindGustDir\", \"WindDir9am\", \"WindDir3pm\"]\n",
    "for column in wind_dir_columns:\n",
    "    df[f\"{column}Angle\"] = df[column].map(mapping_dict)\n",
    "\n",
    "    df[f\"{column}Cos\"] = np.cos(df[f\"{column}Angle\"])\n",
    "    df[f\"{column}Sin\"] = np.sin(df[f\"{column}Angle\"])\n",
    "\n",
    "    df = df.drop(columns=f\"{column}Angle\")"
   ]
  },
  {
   "cell_type": "markdown",
   "metadata": {},
   "source": [
    "---"
   ]
  },
  {
   "cell_type": "markdown",
   "metadata": {},
   "source": [
    "#### Train Test split"
   ]
  },
  {
   "cell_type": "markdown",
   "metadata": {},
   "source": [
    "Vamos a utilizar una proporción de 0.7|0.15|0.15 para train, validation and test sets respectivamente. Este split no vamos a realizarlo seleccionadas observaciones completamente al azar, sino que por el contrario vamos a considerar todas las observaciones correspondientes a una serie de fechas seleccionadas al azar. Esto nos permitirá evitar el fenómeno de data leaking dado por un modelo que aprenda que en un determinado día y en un determinado sector geográfico hay lluvia al día siguiente (positivo para la clase objetivo) a partir de observaciones para el mismo día en estaciones cercanas entre si. Recordemos que, cómo vimos en el análisis exploratorio de datos, encontramos estaciones meteorológicas muy cercanas entre si con correlaciones cercanas a 0.8 para la probabilidad de lluvia en un mismo día."
   ]
  },
  {
   "cell_type": "code",
   "execution_count": 493,
   "metadata": {},
   "outputs": [],
   "source": [
    "def split_list(data, train_ratio=0.7, val_ratio=0.15, test_ratio=0.15):\n",
    "    if train_ratio + val_ratio + test_ratio != 1.0:\n",
    "        raise ValueError(\"The sum of the split ratios must be 1.0\")\n",
    "    \n",
    "    random.shuffle(data)\n",
    "\n",
    "    total_size = len(data)\n",
    "    train_size = int(total_size * train_ratio)\n",
    "    val_size = int(total_size * val_ratio)\n",
    "    \n",
    "    train_set = data[:train_size]\n",
    "    val_set = data[train_size:(train_size + val_size)]\n",
    "    test_set = data[(train_size + val_size):]\n",
    "    \n",
    "    return train_set, val_set, test_set"
   ]
  },
  {
   "cell_type": "code",
   "execution_count": 494,
   "metadata": {},
   "outputs": [],
   "source": [
    "list_dates = df[\"Date\"].unique().tolist()\n",
    "train_dates, val_dates, test_dates = split_list(list_dates)\n",
    "\n",
    "train_filt = df[\"Date\"].isin(train_dates + val_dates)\n",
    "train_set = df.loc[train_filt, :].reset_index(drop=True)\n",
    "\n",
    "test_filt = df[\"Date\"].isin(test_dates)\n",
    "test_set = df.loc[test_filt, :].reset_index(drop=True)"
   ]
  },
  {
   "cell_type": "markdown",
   "metadata": {},
   "source": [
    "---"
   ]
  },
  {
   "cell_type": "markdown",
   "metadata": {},
   "source": [
    "#### Numeric data transformation"
   ]
  },
  {
   "cell_type": "code",
   "execution_count": 495,
   "metadata": {},
   "outputs": [],
   "source": [
    "numeric_columns = [\n",
    "    \"MinTemp\",\n",
    "    \"MaxTemp\",\n",
    "    \"Rainfall\",\n",
    "    \"Evaporation\",\n",
    "    \"Sunshine\",\n",
    "    \"WindGustSpeed\",\n",
    "    \"WindSpeed9am\",\n",
    "    \"WindSpeed3pm\",\n",
    "    \"Humidity9am\",\n",
    "    \"Humidity3pm\",\n",
    "    \"Pressure9am\",\n",
    "    \"Pressure3pm\",\n",
    "    \"Cloud9am\",\n",
    "    \"Cloud3pm\",\n",
    "    \"Temp9am\",\n",
    "    \"Temp3pm\"\n",
    "]"
   ]
  },
  {
   "cell_type": "code",
   "execution_count": 496,
   "metadata": {},
   "outputs": [
    {
     "data": {
      "image/png": "[encoded data removed]",
      "text/plain": [
       "<Figure size 1200x800 with 16 Axes>"
      ]
     },
     "metadata": {},
     "output_type": "display_data"
    }
   ],
   "source": [
    "plt.rcParams.update({'font.size': 6})\n",
    "train_set[numeric_columns].hist(bins=50, figsize=(12, 8))\n",
    "plt.subplots_adjust(hspace=0.4, wspace=0.25)\n",
    "plt.show()"
   ]
  },
  {
   "cell_type": "code",
   "execution_count": 497,
   "metadata": {},
   "outputs": [
    {
     "data": {
      "text/plain": [
       "MinTemp           -0.489722\n",
       "MaxTemp           -0.237807\n",
       "Rainfall         185.446037\n",
       "Evaporation       47.464434\n",
       "Sunshine          -0.825532\n",
       "WindGustSpeed      1.409267\n",
       "WindSpeed9am       1.206857\n",
       "WindSpeed3pm       0.770985\n",
       "Humidity9am       -0.045800\n",
       "Humidity3pm       -0.516242\n",
       "Pressure9am        0.226843\n",
       "Pressure3pm        0.107626\n",
       "Cloud9am          -1.542493\n",
       "Cloud3pm          -1.458780\n",
       "Temp9am           -0.349470\n",
       "Temp3pm           -0.145123\n",
       "dtype: float64"
      ]
     },
     "execution_count": 497,
     "metadata": {},
     "output_type": "execute_result"
    }
   ],
   "source": [
    "train_set[numeric_columns].kurtosis(numeric_only=True)"
   ]
  },
  {
   "cell_type": "markdown",
   "metadata": {},
   "source": [
    "_Cabe remarcar, que la oblicuidad de la variable Rainfall se debe principalmente al desbalanceo del dataset (mayor cantidad de observaciones con clase negativa para las variables RainToday y RainTomorrow) y la relación determinística entre esta variable cuando asume valor 0 y un valor negativo para la variable RainToday._"
   ]
  },
  {
   "cell_type": "markdown",
   "metadata": {},
   "source": [
    "Vamos a utilizar la función logarítmica en las variables \"Rainfall\" y \"Evaporation\" cuya métrica de oblicuidad es mayor a 2."
   ]
  },
  {
   "cell_type": "code",
   "execution_count": 498,
   "metadata": {},
   "outputs": [],
   "source": [
    "right_skewed_columns = [\"Rainfall\", \"Evaporation\"]\n",
    "for column in right_skewed_columns:\n",
    "    train_set[column] = np.log(train_set[column]+1)"
   ]
  },
  {
   "cell_type": "markdown",
   "metadata": {},
   "source": [
    "---"
   ]
  },
  {
   "cell_type": "markdown",
   "metadata": {},
   "source": [
    "#### Missing values imputation"
   ]
  },
  {
   "cell_type": "markdown",
   "metadata": {},
   "source": [
    "Vamos a realizar la imputación de datos faltantes mediante el algoritmo de KNN"
   ]
  },
  {
   "cell_type": "code",
   "execution_count": 499,
   "metadata": {},
   "outputs": [],
   "source": [
    "index_columns = [\"Date\", \"Location\"]\n",
    "\n",
    "feature_columns = [\n",
    "    \"Lat\",\n",
    "    \"Lon\",\n",
    "    \"DayCos\",\n",
    "    \"DaySin\",\n",
    "    \"MinTemp\",\n",
    "    \"MaxTemp\",\n",
    "    \"Rainfall\",\n",
    "    \"Evaporation\",\n",
    "    \"Sunshine\",\n",
    "    \"WindGustSpeed\",\n",
    "    \"WindSpeed9am\",\n",
    "    \"WindSpeed3pm\",\n",
    "    \"WindGustDirCos\",\n",
    "    \"WindGustDirSin\",\n",
    "    \"WindDir9amCos\",\n",
    "    \"WindDir9amSin\",\n",
    "    \"WindDir3pmCos\",\n",
    "    \"WindDir3pmSin\",\n",
    "    \"Humidity9am\",\n",
    "    \"Humidity3pm\",\n",
    "    \"Pressure9am\",\n",
    "    \"Pressure3pm\",\n",
    "    \"Cloud9am\",\n",
    "    \"Cloud3pm\",\n",
    "    \"Temp9am\",\n",
    "    \"Temp3pm\",\n",
    "    \"RainToday\",\n",
    "]\n",
    "\n",
    "target_column = [\"RainTomorrow\"]"
   ]
  },
  {
   "cell_type": "code",
   "execution_count": 500,
   "metadata": {},
   "outputs": [
    {
     "data": {
      "application/vnd.jupyter.widget-view+json": {
       "model_id": "1ccafd1e5bc34ad6928032a034f3c599",
       "version_major": 2,
       "version_minor": 0
      },
      "text/plain": [
       "  0%|          | 0/22 [00:00<?, ?it/s]"
      ]
     },
     "metadata": {},
     "output_type": "display_data"
    }
   ],
   "source": [
    "significance_thresh = 0.05\n",
    "corr_thresh = 0.85\n",
    "\n",
    "locations = df[\"Location\"].unique()\n",
    "location_pairs = list(combinations(locations, 2))\n",
    "\n",
    "numeric_feature_columns = [\n",
    "    x\n",
    "    for x in feature_columns\n",
    "    if x not in [\"Lat\", \"Lon\", \"DayCos\", \"DaySin\", \"RainToday\"]\n",
    "]\n",
    "\n",
    "spatial_correlations = {}\n",
    "for feature in tqdm(numeric_feature_columns):\n",
    "    df_feature = train_set.pivot(index=\"Date\", columns=\"Location\", values=feature)\n",
    "\n",
    "    feature_correlations = []\n",
    "    for index, location_pair in enumerate(location_pairs):\n",
    "        loc_a, loc_b = location_pair\n",
    "        df_feature_pair = df_feature[[loc_a, loc_b]].dropna()\n",
    "        if not df_feature_pair.empty:\n",
    "            corr, pvalue = pearsonr(df_feature_pair[loc_a], df_feature_pair[loc_b])\n",
    "\n",
    "            if (pvalue < significance_thresh) & (corr > corr_thresh):\n",
    "                ridge = Ridge(alpha=1.0)\n",
    "                ridge.fit(df_feature_pair[loc_a].values.reshape(-1, 1), df_feature_pair[loc_b])\n",
    "                intercept = ridge.intercept_\n",
    "                coeficient = ridge.coef_[0]\n",
    "\n",
    "                pair_correlation = {}\n",
    "                pair_correlation[\"loc_a\"] = loc_a\n",
    "                pair_correlation[\"loc_b\"] = loc_b\n",
    "                pair_correlation[\"corr\"] = corr\n",
    "                pair_correlation[\"intercept\"] = intercept\n",
    "                pair_correlation[\"slope\"] = coeficient\n",
    "                feature_correlations.append(pair_correlation.copy())\n",
    "\n",
    "                pair_correlation_inv = {}\n",
    "                pair_correlation_inv[\"loc_a\"] = loc_b\n",
    "                pair_correlation_inv[\"loc_b\"] = loc_a\n",
    "                pair_correlation_inv[\"corr\"] = corr\n",
    "                pair_correlation_inv[\"intercept\"] = -1 * intercept / coeficient\n",
    "                pair_correlation_inv[\"slope\"] = 1 / coeficient\n",
    "                feature_correlations.append(pair_correlation_inv.copy())\n",
    "\n",
    "    df_feature_correlations = pd.DataFrame(feature_correlations)\n",
    "    spatial_correlations[feature] = df_feature_correlations"
   ]
  },
  {
   "cell_type": "markdown",
   "metadata": {},
   "source": [
    "---"
   ]
  },
  {
   "cell_type": "code",
   "execution_count": 501,
   "metadata": {},
   "outputs": [
    {
     "data": {
      "text/html": [
       "<div>\n",
       "<style scoped>\n",
       "    .dataframe tbody tr th:only-of-type {\n",
       "        vertical-align: middle;\n",
       "    }\n",
       "\n",
       "    .dataframe tbody tr th {\n",
       "        vertical-align: top;\n",
       "    }\n",
       "\n",
       "    .dataframe thead th {\n",
       "        text-align: right;\n",
       "    }\n",
       "</style>\n",
       "<table border=\"1\" class=\"dataframe\">\n",
       "  <thead>\n",
       "    <tr style=\"text-align: right;\">\n",
       "      <th></th>\n",
       "      <th>loc_a</th>\n",
       "      <th>loc_b</th>\n",
       "      <th>corr</th>\n",
       "      <th>intercept</th>\n",
       "      <th>slope</th>\n",
       "    </tr>\n",
       "  </thead>\n",
       "  <tbody>\n",
       "    <tr>\n",
       "      <th>0</th>\n",
       "      <td>Sydney</td>\n",
       "      <td>SydneyAirport</td>\n",
       "      <td>1.000000</td>\n",
       "      <td>0.000194</td>\n",
       "      <td>0.999973</td>\n",
       "    </tr>\n",
       "    <tr>\n",
       "      <th>7</th>\n",
       "      <td>Watsonia</td>\n",
       "      <td>Melbourne</td>\n",
       "      <td>1.000000</td>\n",
       "      <td>-0.000217</td>\n",
       "      <td>1.000034</td>\n",
       "    </tr>\n",
       "    <tr>\n",
       "      <th>1</th>\n",
       "      <td>SydneyAirport</td>\n",
       "      <td>Sydney</td>\n",
       "      <td>1.000000</td>\n",
       "      <td>-0.000194</td>\n",
       "      <td>1.000027</td>\n",
       "    </tr>\n",
       "    <tr>\n",
       "      <th>10</th>\n",
       "      <td>Portland</td>\n",
       "      <td>MountGambier</td>\n",
       "      <td>1.000000</td>\n",
       "      <td>0.000202</td>\n",
       "      <td>0.999969</td>\n",
       "    </tr>\n",
       "    <tr>\n",
       "      <th>9</th>\n",
       "      <td>DartmoorVillage</td>\n",
       "      <td>Portland</td>\n",
       "      <td>1.000000</td>\n",
       "      <td>-0.000208</td>\n",
       "      <td>1.000033</td>\n",
       "    </tr>\n",
       "    <tr>\n",
       "      <th>8</th>\n",
       "      <td>Portland</td>\n",
       "      <td>DartmoorVillage</td>\n",
       "      <td>1.000000</td>\n",
       "      <td>0.000208</td>\n",
       "      <td>0.999967</td>\n",
       "    </tr>\n",
       "    <tr>\n",
       "      <th>11</th>\n",
       "      <td>MountGambier</td>\n",
       "      <td>Portland</td>\n",
       "      <td>1.000000</td>\n",
       "      <td>-0.000202</td>\n",
       "      <td>1.000031</td>\n",
       "    </tr>\n",
       "    <tr>\n",
       "      <th>6</th>\n",
       "      <td>Melbourne</td>\n",
       "      <td>Watsonia</td>\n",
       "      <td>1.000000</td>\n",
       "      <td>0.000217</td>\n",
       "      <td>0.999966</td>\n",
       "    </tr>\n",
       "    <tr>\n",
       "      <th>5</th>\n",
       "      <td>Watsonia</td>\n",
       "      <td>MelbourneAirport</td>\n",
       "      <td>1.000000</td>\n",
       "      <td>-0.000163</td>\n",
       "      <td>1.000025</td>\n",
       "    </tr>\n",
       "    <tr>\n",
       "      <th>4</th>\n",
       "      <td>MelbourneAirport</td>\n",
       "      <td>Watsonia</td>\n",
       "      <td>1.000000</td>\n",
       "      <td>0.000162</td>\n",
       "      <td>0.999975</td>\n",
       "    </tr>\n",
       "    <tr>\n",
       "      <th>3</th>\n",
       "      <td>Melbourne</td>\n",
       "      <td>MelbourneAirport</td>\n",
       "      <td>1.000000</td>\n",
       "      <td>-0.000217</td>\n",
       "      <td>1.000034</td>\n",
       "    </tr>\n",
       "    <tr>\n",
       "      <th>2</th>\n",
       "      <td>MelbourneAirport</td>\n",
       "      <td>Melbourne</td>\n",
       "      <td>1.000000</td>\n",
       "      <td>0.000217</td>\n",
       "      <td>0.999966</td>\n",
       "    </tr>\n",
       "    <tr>\n",
       "      <th>12</th>\n",
       "      <td>DartmoorVillage</td>\n",
       "      <td>MountGambier</td>\n",
       "      <td>1.000000</td>\n",
       "      <td>0.000208</td>\n",
       "      <td>0.999968</td>\n",
       "    </tr>\n",
       "    <tr>\n",
       "      <th>13</th>\n",
       "      <td>MountGambier</td>\n",
       "      <td>DartmoorVillage</td>\n",
       "      <td>1.000000</td>\n",
       "      <td>-0.000208</td>\n",
       "      <td>1.000032</td>\n",
       "    </tr>\n",
       "    <tr>\n",
       "      <th>16</th>\n",
       "      <td>PearceRAAF</td>\n",
       "      <td>PerthAirport</td>\n",
       "      <td>1.000000</td>\n",
       "      <td>0.000321</td>\n",
       "      <td>0.999964</td>\n",
       "    </tr>\n",
       "    <tr>\n",
       "      <th>17</th>\n",
       "      <td>PerthAirport</td>\n",
       "      <td>PearceRAAF</td>\n",
       "      <td>1.000000</td>\n",
       "      <td>-0.000321</td>\n",
       "      <td>1.000036</td>\n",
       "    </tr>\n",
       "    <tr>\n",
       "      <th>18</th>\n",
       "      <td>PearceRAAF</td>\n",
       "      <td>Perth</td>\n",
       "      <td>1.000000</td>\n",
       "      <td>0.000321</td>\n",
       "      <td>0.999964</td>\n",
       "    </tr>\n",
       "    <tr>\n",
       "      <th>19</th>\n",
       "      <td>Perth</td>\n",
       "      <td>PearceRAAF</td>\n",
       "      <td>1.000000</td>\n",
       "      <td>-0.000321</td>\n",
       "      <td>1.000036</td>\n",
       "    </tr>\n",
       "    <tr>\n",
       "      <th>20</th>\n",
       "      <td>PerthAirport</td>\n",
       "      <td>Perth</td>\n",
       "      <td>1.000000</td>\n",
       "      <td>0.000286</td>\n",
       "      <td>0.999967</td>\n",
       "    </tr>\n",
       "    <tr>\n",
       "      <th>21</th>\n",
       "      <td>Perth</td>\n",
       "      <td>PerthAirport</td>\n",
       "      <td>1.000000</td>\n",
       "      <td>-0.000286</td>\n",
       "      <td>1.000033</td>\n",
       "    </tr>\n",
       "    <tr>\n",
       "      <th>14</th>\n",
       "      <td>Adelaide</td>\n",
       "      <td>Nuriootpa</td>\n",
       "      <td>0.899048</td>\n",
       "      <td>1.005714</td>\n",
       "      <td>0.876190</td>\n",
       "    </tr>\n",
       "    <tr>\n",
       "      <th>15</th>\n",
       "      <td>Nuriootpa</td>\n",
       "      <td>Adelaide</td>\n",
       "      <td>0.899048</td>\n",
       "      <td>-1.147828</td>\n",
       "      <td>1.141306</td>\n",
       "    </tr>\n",
       "  </tbody>\n",
       "</table>\n",
       "</div>"
      ],
      "text/plain": [
       "               loc_a             loc_b      corr  intercept     slope\n",
       "0             Sydney     SydneyAirport  1.000000   0.000194  0.999973\n",
       "7           Watsonia         Melbourne  1.000000  -0.000217  1.000034\n",
       "1      SydneyAirport            Sydney  1.000000  -0.000194  1.000027\n",
       "10          Portland      MountGambier  1.000000   0.000202  0.999969\n",
       "9    DartmoorVillage          Portland  1.000000  -0.000208  1.000033\n",
       "8           Portland   DartmoorVillage  1.000000   0.000208  0.999967\n",
       "11      MountGambier          Portland  1.000000  -0.000202  1.000031\n",
       "6          Melbourne          Watsonia  1.000000   0.000217  0.999966\n",
       "5           Watsonia  MelbourneAirport  1.000000  -0.000163  1.000025\n",
       "4   MelbourneAirport          Watsonia  1.000000   0.000162  0.999975\n",
       "3          Melbourne  MelbourneAirport  1.000000  -0.000217  1.000034\n",
       "2   MelbourneAirport         Melbourne  1.000000   0.000217  0.999966\n",
       "12   DartmoorVillage      MountGambier  1.000000   0.000208  0.999968\n",
       "13      MountGambier   DartmoorVillage  1.000000  -0.000208  1.000032\n",
       "16        PearceRAAF      PerthAirport  1.000000   0.000321  0.999964\n",
       "17      PerthAirport        PearceRAAF  1.000000  -0.000321  1.000036\n",
       "18        PearceRAAF             Perth  1.000000   0.000321  0.999964\n",
       "19             Perth        PearceRAAF  1.000000  -0.000321  1.000036\n",
       "20      PerthAirport             Perth  1.000000   0.000286  0.999967\n",
       "21             Perth      PerthAirport  1.000000  -0.000286  1.000033\n",
       "14          Adelaide         Nuriootpa  0.899048   1.005714  0.876190\n",
       "15         Nuriootpa          Adelaide  0.899048  -1.147828  1.141306"
      ]
     },
     "execution_count": 501,
     "metadata": {},
     "output_type": "execute_result"
    }
   ],
   "source": [
    "feature = \"Sunshine\"\n",
    "spatial_correlations[feature].sort_values(by=\"corr\", ascending=False)"
   ]
  },
  {
   "cell_type": "code",
   "execution_count": 502,
   "metadata": {},
   "outputs": [],
   "source": [
    "loc_a, loc_b = (\"Nuriootpa\", \"Adelaide\")\n",
    "df_feature = train_set.pivot(index=\"Date\", columns=\"Location\", values=feature)\n",
    "df_feature_loc1_loc2 = df_feature[[loc_a, loc_b]].dropna()"
   ]
  },
  {
   "cell_type": "code",
   "execution_count": 503,
   "metadata": {},
   "outputs": [
    {
     "data": {
      "image/png": "[encoded data removed]",
      "text/plain": [
       "<Figure size 800x800 with 1 Axes>"
      ]
     },
     "metadata": {},
     "output_type": "display_data"
    }
   ],
   "source": [
    "plt.figure(figsize=(8, 8))\n",
    "\n",
    "sc = plt.scatter(\n",
    "    df_feature_loc1_loc2[loc_a],\n",
    "    df_feature_loc1_loc2[loc_b],\n",
    "    s=12,\n",
    "    c=spectral_palette[0],\n",
    "    alpha=0.2,\n",
    "    edgecolors=\"w\",\n",
    "    linewidth=0.5,\n",
    ")\n",
    "\n",
    "filt = (spatial_correlations[feature][\"loc_a\"] == loc_a) & (\n",
    "    spatial_correlations[feature][\"loc_b\"] == loc_b\n",
    ")\n",
    "intercept = spatial_correlations[feature].loc[filt, :][\"intercept\"].values\n",
    "slope = spatial_correlations[feature].loc[filt, :][\"slope\"].values\n",
    "x_vals = np.array(plt.gca().get_xlim())  # Get current x-axis limits\n",
    "y_vals = intercept + slope * x_vals  # Calculate corresponding y values\n",
    "plt.plot(x_vals, y_vals, \"--\", color=\"red\")  # Plot the line\n",
    "\n",
    "plt.xlabel(loc_a)\n",
    "plt.ylabel(loc_b)\n",
    "plt.title(feature)\n",
    "\n",
    "plt.show()"
   ]
  },
  {
   "cell_type": "markdown",
   "metadata": {},
   "source": [
    "---"
   ]
  },
  {
   "cell_type": "code",
   "execution_count": 504,
   "metadata": {},
   "outputs": [
    {
     "name": "stdout",
     "output_type": "stream",
     "text": [
      "<class 'pandas.core.frame.DataFrame'>\n",
      "RangeIndex: 120872 entries, 0 to 120871\n",
      "Data columns (total 33 columns):\n",
      " #   Column          Non-Null Count   Dtype         \n",
      "---  ------          --------------   -----         \n",
      " 0   Date            120872 non-null  datetime64[ns]\n",
      " 1   Location        120872 non-null  object        \n",
      " 2   MinTemp         120328 non-null  float64       \n",
      " 3   MaxTemp         120601 non-null  float64       \n",
      " 4   Rainfall        119696 non-null  float64       \n",
      " 5   Evaporation     69171 non-null   float64       \n",
      " 6   Sunshine        63256 non-null   float64       \n",
      " 7   WindGustDir     112987 non-null  object        \n",
      " 8   WindGustSpeed   113039 non-null  float64       \n",
      " 9   WindDir9am      112458 non-null  object        \n",
      " 10  WindDir3pm      117684 non-null  object        \n",
      " 11  WindSpeed9am    119747 non-null  float64       \n",
      " 12  WindSpeed3pm    118671 non-null  float64       \n",
      " 13  Humidity9am     119363 non-null  float64       \n",
      " 14  Humidity3pm     117827 non-null  float64       \n",
      " 15  Pressure9am     108975 non-null  float64       \n",
      " 16  Pressure3pm     109006 non-null  float64       \n",
      " 17  Cloud9am        75284 non-null   float64       \n",
      " 18  Cloud3pm        72484 non-null   float64       \n",
      " 19  Temp9am         120097 non-null  float64       \n",
      " 20  Temp3pm         118577 non-null  float64       \n",
      " 21  RainToday       119696 non-null  float64       \n",
      " 22  RainTomorrow    120872 non-null  int64         \n",
      " 23  Lat             120872 non-null  float64       \n",
      " 24  Lon             120872 non-null  float64       \n",
      " 25  DayCos          120872 non-null  float64       \n",
      " 26  DaySin          120872 non-null  float64       \n",
      " 27  WindGustDirCos  112987 non-null  float64       \n",
      " 28  WindGustDirSin  112987 non-null  float64       \n",
      " 29  WindDir9amCos   112458 non-null  float64       \n",
      " 30  WindDir9amSin   112458 non-null  float64       \n",
      " 31  WindDir3pmCos   117684 non-null  float64       \n",
      " 32  WindDir3pmSin   117684 non-null  float64       \n",
      "dtypes: datetime64[ns](1), float64(27), int64(1), object(4)\n",
      "memory usage: 30.4+ MB\n"
     ]
    }
   ],
   "source": [
    "train_set.info()"
   ]
  },
  {
   "cell_type": "code",
   "execution_count": 505,
   "metadata": {},
   "outputs": [],
   "source": [
    "previous_na = train_set.isna()"
   ]
  },
  {
   "cell_type": "code",
   "execution_count": 506,
   "metadata": {},
   "outputs": [],
   "source": [
    "def impute_missing(df, date, location, feature, correlations, k):\n",
    "    filt = correlations[\"loc_b\"] == location\n",
    "    correlations = correlations.loc[filt, :]\n",
    "\n",
    "    filt = (\n",
    "        (df[\"Date\"] == date)\n",
    "        & (df[\"Location\"].isin(correlations[\"loc_a\"]))\n",
    "        & (~df[feature].isna())\n",
    "    )\n",
    "    if filt.sum() == 0:\n",
    "        return np.nan\n",
    "    df_nearests = df.loc[filt, :]\n",
    "\n",
    "    df_nearests = (\n",
    "        pd.merge(\n",
    "            df_nearests[[\"Date\", \"Location\", feature]],\n",
    "            correlations[[\"loc_a\", \"corr\", \"intercept\", \"slope\"]],\n",
    "            how=\"left\",\n",
    "            left_on=\"Location\",\n",
    "            right_on=\"loc_a\",\n",
    "        )\n",
    "        .sort_values(by=\"corr\", ascending=False)\n",
    "        .head(3)\n",
    "    )\n",
    "\n",
    "    df_nearests[\"y\"] = (\n",
    "        df_nearests[feature] * df_nearests[\"slope\"] + df_nearests[\"intercept\"]\n",
    "    )\n",
    "\n",
    "    imputed = (df_nearests[\"y\"] * (df_nearests[\"corr\"] ** 2)).sum() / (\n",
    "        df_nearests[\"corr\"] ** 2\n",
    "    ).sum()\n",
    "\n",
    "    min_value = df[feature].min()\n",
    "    max_value = df[feature].max()\n",
    "    imputed = imputed if imputed > min_value else min_value\n",
    "    imputed = imputed if imputed < max_value else max_value\n",
    "\n",
    "    return imputed"
   ]
  },
  {
   "cell_type": "code",
   "execution_count": 507,
   "metadata": {},
   "outputs": [
    {
     "data": {
      "application/vnd.jupyter.widget-view+json": {
       "model_id": "791803ae6b9348a4aeca27a53699f256",
       "version_major": 2,
       "version_minor": 0
      },
      "text/plain": [
       "  0%|          | 0/22 [00:00<?, ?it/s]"
      ]
     },
     "metadata": {},
     "output_type": "display_data"
    }
   ],
   "source": [
    "for feature in tqdm(numeric_feature_columns):\n",
    "    feature_locations = spatial_correlations[feature][\"loc_a\"].unique()\n",
    "\n",
    "    filt = (train_set[feature].isna()) & (train_set[\"Location\"].isin(feature_locations))\n",
    "    train_set.loc[filt, feature] = train_set.loc[filt, :].apply(\n",
    "        lambda x: impute_missing(\n",
    "            df=train_set,\n",
    "            date=x[\"Date\"],\n",
    "            location=x[\"Location\"],\n",
    "            feature=feature,\n",
    "            correlations=spatial_correlations[feature],\n",
    "            k=3,\n",
    "        ),\n",
    "        axis=1,\n",
    "    )"
   ]
  },
  {
   "cell_type": "code",
   "execution_count": 508,
   "metadata": {},
   "outputs": [
    {
     "data": {
      "text/plain": [
       "['MinTemp',\n",
       " 'MaxTemp',\n",
       " 'Rainfall',\n",
       " 'Evaporation',\n",
       " 'Sunshine',\n",
       " 'WindGustSpeed',\n",
       " 'WindSpeed9am',\n",
       " 'WindSpeed3pm',\n",
       " 'WindGustDirCos',\n",
       " 'WindGustDirSin',\n",
       " 'WindDir9amCos',\n",
       " 'WindDir9amSin',\n",
       " 'WindDir3pmCos',\n",
       " 'WindDir3pmSin',\n",
       " 'Humidity9am',\n",
       " 'Humidity3pm',\n",
       " 'Pressure9am',\n",
       " 'Pressure3pm',\n",
       " 'Cloud9am',\n",
       " 'Cloud3pm',\n",
       " 'Temp9am',\n",
       " 'Temp3pm']"
      ]
     },
     "execution_count": 508,
     "metadata": {},
     "output_type": "execute_result"
    }
   ],
   "source": [
    "numeric_feature_columns"
   ]
  },
  {
   "cell_type": "code",
   "execution_count": 509,
   "metadata": {},
   "outputs": [
    {
     "data": {
      "text/plain": [
       "5050      12.3\n",
       "5051      13.0\n",
       "5052      10.6\n",
       "5053      12.2\n",
       "5054       8.4\n",
       "          ... \n",
       "118231    11.0\n",
       "118232     8.6\n",
       "118233    11.0\n",
       "118234    10.6\n",
       "118235    10.7\n",
       "Name: Sunshine, Length: 64470, dtype: float64"
      ]
     },
     "execution_count": 509,
     "metadata": {},
     "output_type": "execute_result"
    }
   ],
   "source": [
    "feature = \"Sunshine\"\n",
    "filt = (~train_set[feature].isna())\n",
    "train_set.loc[filt, :][feature]"
   ]
  },
  {
   "cell_type": "code",
   "execution_count": 510,
   "metadata": {},
   "outputs": [
    {
     "data": {
      "text/plain": [
       "56402"
      ]
     },
     "execution_count": 510,
     "metadata": {},
     "output_type": "execute_result"
    }
   ],
   "source": [
    "(train_set[feature].isna()).sum()"
   ]
  },
  {
   "cell_type": "code",
   "execution_count": 511,
   "metadata": {},
   "outputs": [
    {
     "data": {
      "image/png": "[encoded data removed]",
      "text/plain": [
       "<Figure size 300x200 with 1 Axes>"
      ]
     },
     "metadata": {},
     "output_type": "display_data"
    }
   ],
   "source": [
    "train_set.loc[~filt, :][feature].hist(bins=50, figsize=(3, 2))\n",
    "plt.show()"
   ]
  },
  {
   "cell_type": "code",
   "execution_count": 512,
   "metadata": {},
   "outputs": [
    {
     "data": {
      "image/png": "[encoded data removed]",
      "text/plain": [
       "<Figure size 300x200 with 1 Axes>"
      ]
     },
     "metadata": {},
     "output_type": "display_data"
    }
   ],
   "source": [
    "train_set.loc[filt, :][feature].hist(bins=50, figsize=(3, 2))\n",
    "plt.show()"
   ]
  },
  {
   "cell_type": "code",
   "execution_count": 513,
   "metadata": {},
   "outputs": [
    {
     "name": "stdout",
     "output_type": "stream",
     "text": [
      "<class 'pandas.core.frame.DataFrame'>\n",
      "RangeIndex: 120872 entries, 0 to 120871\n",
      "Data columns (total 33 columns):\n",
      " #   Column          Non-Null Count   Dtype         \n",
      "---  ------          --------------   -----         \n",
      " 0   Date            120872 non-null  datetime64[ns]\n",
      " 1   Location        120872 non-null  object        \n",
      " 2   MinTemp         120859 non-null  float64       \n",
      " 3   MaxTemp         120846 non-null  float64       \n",
      " 4   Rainfall        119979 non-null  float64       \n",
      " 5   Evaporation     69171 non-null   float64       \n",
      " 6   Sunshine        64470 non-null   float64       \n",
      " 7   WindGustDir     112987 non-null  object        \n",
      " 8   WindGustSpeed   113806 non-null  float64       \n",
      " 9   WindDir9am      112458 non-null  object        \n",
      " 10  WindDir3pm      117684 non-null  object        \n",
      " 11  WindSpeed9am    119747 non-null  float64       \n",
      " 12  WindSpeed3pm    118671 non-null  float64       \n",
      " 13  Humidity9am     119752 non-null  float64       \n",
      " 14  Humidity3pm     118813 non-null  float64       \n",
      " 15  Pressure9am     110861 non-null  float64       \n",
      " 16  Pressure3pm     110864 non-null  float64       \n",
      " 17  Cloud9am        76550 non-null   float64       \n",
      " 18  Cloud3pm        73997 non-null   float64       \n",
      " 19  Temp9am         120866 non-null  float64       \n",
      " 20  Temp3pm         120230 non-null  float64       \n",
      " 21  RainToday       119696 non-null  float64       \n",
      " 22  RainTomorrow    120872 non-null  int64         \n",
      " 23  Lat             120872 non-null  float64       \n",
      " 24  Lon             120872 non-null  float64       \n",
      " 25  DayCos          120872 non-null  float64       \n",
      " 26  DaySin          120872 non-null  float64       \n",
      " 27  WindGustDirCos  112990 non-null  float64       \n",
      " 28  WindGustDirSin  112990 non-null  float64       \n",
      " 29  WindDir9amCos   112469 non-null  float64       \n",
      " 30  WindDir9amSin   112950 non-null  float64       \n",
      " 31  WindDir3pmCos   117697 non-null  float64       \n",
      " 32  WindDir3pmSin   117771 non-null  float64       \n",
      "dtypes: datetime64[ns](1), float64(27), int64(1), object(4)\n",
      "memory usage: 30.4+ MB\n"
     ]
    }
   ],
   "source": [
    "train_set.info()"
   ]
  },
  {
   "cell_type": "code",
   "execution_count": 514,
   "metadata": {},
   "outputs": [],
   "source": [
    "posterior_na = train_set.isna()"
   ]
  },
  {
   "cell_type": "code",
   "execution_count": 516,
   "metadata": {},
   "outputs": [
    {
     "data": {
      "text/plain": [
       "307467"
      ]
     },
     "execution_count": 516,
     "metadata": {},
     "output_type": "execute_result"
    }
   ],
   "source": [
    "previous_na.sum().sum()"
   ]
  },
  {
   "cell_type": "code",
   "execution_count": 518,
   "metadata": {},
   "outputs": [
    {
     "data": {
      "text/plain": [
       "0.9545674820387229"
      ]
     },
     "execution_count": 518,
     "metadata": {},
     "output_type": "execute_result"
    }
   ],
   "source": [
    "posterior_na.sum().sum() / previous_na.sum().sum()"
   ]
  }
 ],
 "metadata": {
  "kernelspec": {
   "display_name": "2023_CEIA-n1a1_Nsd",
   "language": "python",
   "name": "python3"
  },
  "language_info": {
   "codemirror_mode": {
    "name": "ipython",
    "version": 3
   },
   "file_extension": ".py",
   "mimetype": "text/x-python",
   "name": "python",
   "nbconvert_exporter": "python",
   "pygments_lexer": "ipython3",
   "version": "3.11.9"
  }
 },
 "nbformat": 4,
 "nbformat_minor": 2
}
